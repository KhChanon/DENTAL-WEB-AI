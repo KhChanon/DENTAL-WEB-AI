{
  "cells": [
    {
      "cell_type": "markdown",
      "metadata": {
        "id": "J4tPXpx3xgMe"
      },
      "source": [
        "**AI Final Project - Dental(tooth exaction) Question Answer**\n",
        "\n",
        "Member:\n",
        "- Chanon 63070503408\n",
        "- Pechdanai 63070503434\n",
        "- Fasai 63070503436"
      ]
    },
    {
      "cell_type": "code",
      "execution_count": null,
      "metadata": {
        "colab": {
          "base_uri": "https://localhost:8080/"
        },
        "id": "2UJxaE8Fi72g",
        "outputId": "7047968f-ba8b-4c16-9892-670419631cd2"
      },
      "outputs": [
        {
          "output_type": "stream",
          "name": "stdout",
          "text": [
            "\u001b[33mWARNING: No matching packages\u001b[0m\u001b[33m\n",
            "\u001b[0mFiles removed: 0\n"
          ]
        }
      ],
      "source": [
        "!pip cache purge"
      ]
    },
    {
      "cell_type": "code",
      "execution_count": null,
      "metadata": {
        "colab": {
          "base_uri": "https://localhost:8080/"
        },
        "id": "n-xFdmBcYawK",
        "outputId": "46709114-c89b-4dd8-a0b9-185f1a26645a"
      },
      "outputs": [
        {
          "output_type": "stream",
          "name": "stdout",
          "text": [
            "Requirement already satisfied: transformers in /usr/local/lib/python3.10/dist-packages (4.35.2)\n",
            "Requirement already satisfied: filelock in /usr/local/lib/python3.10/dist-packages (from transformers) (3.13.1)\n",
            "Requirement already satisfied: huggingface-hub<1.0,>=0.16.4 in /usr/local/lib/python3.10/dist-packages (from transformers) (0.19.4)\n",
            "Requirement already satisfied: numpy>=1.17 in /usr/local/lib/python3.10/dist-packages (from transformers) (1.23.5)\n",
            "Requirement already satisfied: packaging>=20.0 in /usr/local/lib/python3.10/dist-packages (from transformers) (23.2)\n",
            "Requirement already satisfied: pyyaml>=5.1 in /usr/local/lib/python3.10/dist-packages (from transformers) (6.0.1)\n",
            "Requirement already satisfied: regex!=2019.12.17 in /usr/local/lib/python3.10/dist-packages (from transformers) (2023.6.3)\n",
            "Requirement already satisfied: requests in /usr/local/lib/python3.10/dist-packages (from transformers) (2.31.0)\n",
            "Requirement already satisfied: tokenizers<0.19,>=0.14 in /usr/local/lib/python3.10/dist-packages (from transformers) (0.15.0)\n",
            "Requirement already satisfied: safetensors>=0.3.1 in /usr/local/lib/python3.10/dist-packages (from transformers) (0.4.0)\n",
            "Requirement already satisfied: tqdm>=4.27 in /usr/local/lib/python3.10/dist-packages (from transformers) (4.66.1)\n",
            "Requirement already satisfied: fsspec>=2023.5.0 in /usr/local/lib/python3.10/dist-packages (from huggingface-hub<1.0,>=0.16.4->transformers) (2023.6.0)\n",
            "Requirement already satisfied: typing-extensions>=3.7.4.3 in /usr/local/lib/python3.10/dist-packages (from huggingface-hub<1.0,>=0.16.4->transformers) (4.5.0)\n",
            "Requirement already satisfied: charset-normalizer<4,>=2 in /usr/local/lib/python3.10/dist-packages (from requests->transformers) (3.3.2)\n",
            "Requirement already satisfied: idna<4,>=2.5 in /usr/local/lib/python3.10/dist-packages (from requests->transformers) (3.4)\n",
            "Requirement already satisfied: urllib3<3,>=1.21.1 in /usr/local/lib/python3.10/dist-packages (from requests->transformers) (2.0.7)\n",
            "Requirement already satisfied: certifi>=2017.4.17 in /usr/local/lib/python3.10/dist-packages (from requests->transformers) (2023.7.22)\n",
            "Collecting nlpaug\n",
            "  Downloading nlpaug-1.1.11-py3-none-any.whl (410 kB)\n",
            "\u001b[2K     \u001b[90m━━━━━━━━━━━━━━━━━━━━━━━━━━━━━━━━━━━━━━━━\u001b[0m \u001b[32m410.5/410.5 kB\u001b[0m \u001b[31m9.2 MB/s\u001b[0m eta \u001b[36m0:00:00\u001b[0m\n",
            "\u001b[?25hRequirement already satisfied: numpy>=1.16.2 in /usr/local/lib/python3.10/dist-packages (from nlpaug) (1.23.5)\n",
            "Requirement already satisfied: pandas>=1.2.0 in /usr/local/lib/python3.10/dist-packages (from nlpaug) (1.5.3)\n",
            "Requirement already satisfied: requests>=2.22.0 in /usr/local/lib/python3.10/dist-packages (from nlpaug) (2.31.0)\n",
            "Requirement already satisfied: gdown>=4.0.0 in /usr/local/lib/python3.10/dist-packages (from nlpaug) (4.6.6)\n",
            "Requirement already satisfied: filelock in /usr/local/lib/python3.10/dist-packages (from gdown>=4.0.0->nlpaug) (3.13.1)\n",
            "Requirement already satisfied: six in /usr/local/lib/python3.10/dist-packages (from gdown>=4.0.0->nlpaug) (1.16.0)\n",
            "Requirement already satisfied: tqdm in /usr/local/lib/python3.10/dist-packages (from gdown>=4.0.0->nlpaug) (4.66.1)\n",
            "Requirement already satisfied: beautifulsoup4 in /usr/local/lib/python3.10/dist-packages (from gdown>=4.0.0->nlpaug) (4.11.2)\n",
            "Requirement already satisfied: python-dateutil>=2.8.1 in /usr/local/lib/python3.10/dist-packages (from pandas>=1.2.0->nlpaug) (2.8.2)\n",
            "Requirement already satisfied: pytz>=2020.1 in /usr/local/lib/python3.10/dist-packages (from pandas>=1.2.0->nlpaug) (2023.3.post1)\n",
            "Requirement already satisfied: charset-normalizer<4,>=2 in /usr/local/lib/python3.10/dist-packages (from requests>=2.22.0->nlpaug) (3.3.2)\n",
            "Requirement already satisfied: idna<4,>=2.5 in /usr/local/lib/python3.10/dist-packages (from requests>=2.22.0->nlpaug) (3.4)\n",
            "Requirement already satisfied: urllib3<3,>=1.21.1 in /usr/local/lib/python3.10/dist-packages (from requests>=2.22.0->nlpaug) (2.0.7)\n",
            "Requirement already satisfied: certifi>=2017.4.17 in /usr/local/lib/python3.10/dist-packages (from requests>=2.22.0->nlpaug) (2023.7.22)\n",
            "Requirement already satisfied: soupsieve>1.2 in /usr/local/lib/python3.10/dist-packages (from beautifulsoup4->gdown>=4.0.0->nlpaug) (2.5)\n",
            "Requirement already satisfied: PySocks!=1.5.7,>=1.5.6 in /usr/local/lib/python3.10/dist-packages (from requests>=2.22.0->nlpaug) (1.7.1)\n",
            "Installing collected packages: nlpaug\n",
            "Successfully installed nlpaug-1.1.11\n"
          ]
        }
      ],
      "source": [
        "!pip install -U transformers\n",
        "!pip install nlpaug"
      ]
    },
    {
      "cell_type": "code",
      "source": [
        "!pip install joblib"
      ],
      "metadata": {
        "colab": {
          "base_uri": "https://localhost:8080/"
        },
        "id": "5jssIf1CFcCc",
        "outputId": "5c70d40c-aea8-41df-f6a5-535117d10218"
      },
      "execution_count": null,
      "outputs": [
        {
          "output_type": "stream",
          "name": "stdout",
          "text": [
            "Requirement already satisfied: joblib in /usr/local/lib/python3.10/dist-packages (1.3.2)\n"
          ]
        }
      ]
    },
    {
      "cell_type": "code",
      "execution_count": null,
      "metadata": {
        "id": "R-zzA1G0NEvM"
      },
      "outputs": [],
      "source": [
        "from keras import *\n",
        "import numpy as np\n",
        "import pandas as pd\n",
        "import matplotlib.pyplot as plt\n",
        "from sklearn.tree import DecisionTreeClassifier\n",
        "from sklearn.metrics import accuracy_score\n",
        "from transformers import AutoTokenizer, AutoModelForQuestionAnswering, pipeline\n",
        "from sklearn.model_selection import train_test_split"
      ]
    },
    {
      "cell_type": "markdown",
      "metadata": {
        "id": "glfFUvTex0my"
      },
      "source": [
        "# Read and Preprocess data for classification"
      ]
    },
    {
      "cell_type": "code",
      "execution_count": null,
      "metadata": {
        "colab": {
          "base_uri": "https://localhost:8080/",
          "height": 356
        },
        "id": "yHXRcQ8DAgri",
        "outputId": "70111993-5bf3-453c-bdad-a0ba491389bb"
      },
      "outputs": [
        {
          "output_type": "error",
          "ename": "FileNotFoundError",
          "evalue": "ignored",
          "traceback": [
            "\u001b[0;31m---------------------------------------------------------------------------\u001b[0m",
            "\u001b[0;31mFileNotFoundError\u001b[0m                         Traceback (most recent call last)",
            "\u001b[0;32m<ipython-input-5-03c46ac88f17>\u001b[0m in \u001b[0;36m<cell line: 2>\u001b[0;34m()\u001b[0m\n\u001b[1;32m      1\u001b[0m \u001b[0;31m# import data\u001b[0m\u001b[0;34m\u001b[0m\u001b[0;34m\u001b[0m\u001b[0m\n\u001b[0;32m----> 2\u001b[0;31m \u001b[0mdf\u001b[0m \u001b[0;34m=\u001b[0m \u001b[0mpd\u001b[0m\u001b[0;34m.\u001b[0m\u001b[0mread_csv\u001b[0m\u001b[0;34m(\u001b[0m\u001b[0;34m'qalist.csv'\u001b[0m\u001b[0;34m)\u001b[0m\u001b[0;34m\u001b[0m\u001b[0;34m\u001b[0m\u001b[0m\n\u001b[0m\u001b[1;32m      3\u001b[0m \u001b[0mdf\u001b[0m\u001b[0;34m.\u001b[0m\u001b[0mdescribe\u001b[0m\u001b[0;34m(\u001b[0m\u001b[0;34m)\u001b[0m\u001b[0;34m\u001b[0m\u001b[0;34m\u001b[0m\u001b[0m\n",
            "\u001b[0;32m/usr/local/lib/python3.10/dist-packages/pandas/util/_decorators.py\u001b[0m in \u001b[0;36mwrapper\u001b[0;34m(*args, **kwargs)\u001b[0m\n\u001b[1;32m    209\u001b[0m                 \u001b[0;32melse\u001b[0m\u001b[0;34m:\u001b[0m\u001b[0;34m\u001b[0m\u001b[0;34m\u001b[0m\u001b[0m\n\u001b[1;32m    210\u001b[0m                     \u001b[0mkwargs\u001b[0m\u001b[0;34m[\u001b[0m\u001b[0mnew_arg_name\u001b[0m\u001b[0;34m]\u001b[0m \u001b[0;34m=\u001b[0m \u001b[0mnew_arg_value\u001b[0m\u001b[0;34m\u001b[0m\u001b[0;34m\u001b[0m\u001b[0m\n\u001b[0;32m--> 211\u001b[0;31m             \u001b[0;32mreturn\u001b[0m \u001b[0mfunc\u001b[0m\u001b[0;34m(\u001b[0m\u001b[0;34m*\u001b[0m\u001b[0margs\u001b[0m\u001b[0;34m,\u001b[0m \u001b[0;34m**\u001b[0m\u001b[0mkwargs\u001b[0m\u001b[0;34m)\u001b[0m\u001b[0;34m\u001b[0m\u001b[0;34m\u001b[0m\u001b[0m\n\u001b[0m\u001b[1;32m    212\u001b[0m \u001b[0;34m\u001b[0m\u001b[0m\n\u001b[1;32m    213\u001b[0m         \u001b[0;32mreturn\u001b[0m \u001b[0mcast\u001b[0m\u001b[0;34m(\u001b[0m\u001b[0mF\u001b[0m\u001b[0;34m,\u001b[0m \u001b[0mwrapper\u001b[0m\u001b[0;34m)\u001b[0m\u001b[0;34m\u001b[0m\u001b[0;34m\u001b[0m\u001b[0m\n",
            "\u001b[0;32m/usr/local/lib/python3.10/dist-packages/pandas/util/_decorators.py\u001b[0m in \u001b[0;36mwrapper\u001b[0;34m(*args, **kwargs)\u001b[0m\n\u001b[1;32m    329\u001b[0m                     \u001b[0mstacklevel\u001b[0m\u001b[0;34m=\u001b[0m\u001b[0mfind_stack_level\u001b[0m\u001b[0;34m(\u001b[0m\u001b[0;34m)\u001b[0m\u001b[0;34m,\u001b[0m\u001b[0;34m\u001b[0m\u001b[0;34m\u001b[0m\u001b[0m\n\u001b[1;32m    330\u001b[0m                 )\n\u001b[0;32m--> 331\u001b[0;31m             \u001b[0;32mreturn\u001b[0m \u001b[0mfunc\u001b[0m\u001b[0;34m(\u001b[0m\u001b[0;34m*\u001b[0m\u001b[0margs\u001b[0m\u001b[0;34m,\u001b[0m \u001b[0;34m**\u001b[0m\u001b[0mkwargs\u001b[0m\u001b[0;34m)\u001b[0m\u001b[0;34m\u001b[0m\u001b[0;34m\u001b[0m\u001b[0m\n\u001b[0m\u001b[1;32m    332\u001b[0m \u001b[0;34m\u001b[0m\u001b[0m\n\u001b[1;32m    333\u001b[0m         \u001b[0;31m# error: \"Callable[[VarArg(Any), KwArg(Any)], Any]\" has no\u001b[0m\u001b[0;34m\u001b[0m\u001b[0;34m\u001b[0m\u001b[0m\n",
            "\u001b[0;32m/usr/local/lib/python3.10/dist-packages/pandas/io/parsers/readers.py\u001b[0m in \u001b[0;36mread_csv\u001b[0;34m(filepath_or_buffer, sep, delimiter, header, names, index_col, usecols, squeeze, prefix, mangle_dupe_cols, dtype, engine, converters, true_values, false_values, skipinitialspace, skiprows, skipfooter, nrows, na_values, keep_default_na, na_filter, verbose, skip_blank_lines, parse_dates, infer_datetime_format, keep_date_col, date_parser, dayfirst, cache_dates, iterator, chunksize, compression, thousands, decimal, lineterminator, quotechar, quoting, doublequote, escapechar, comment, encoding, encoding_errors, dialect, error_bad_lines, warn_bad_lines, on_bad_lines, delim_whitespace, low_memory, memory_map, float_precision, storage_options)\u001b[0m\n\u001b[1;32m    948\u001b[0m     \u001b[0mkwds\u001b[0m\u001b[0;34m.\u001b[0m\u001b[0mupdate\u001b[0m\u001b[0;34m(\u001b[0m\u001b[0mkwds_defaults\u001b[0m\u001b[0;34m)\u001b[0m\u001b[0;34m\u001b[0m\u001b[0;34m\u001b[0m\u001b[0m\n\u001b[1;32m    949\u001b[0m \u001b[0;34m\u001b[0m\u001b[0m\n\u001b[0;32m--> 950\u001b[0;31m     \u001b[0;32mreturn\u001b[0m \u001b[0m_read\u001b[0m\u001b[0;34m(\u001b[0m\u001b[0mfilepath_or_buffer\u001b[0m\u001b[0;34m,\u001b[0m \u001b[0mkwds\u001b[0m\u001b[0;34m)\u001b[0m\u001b[0;34m\u001b[0m\u001b[0;34m\u001b[0m\u001b[0m\n\u001b[0m\u001b[1;32m    951\u001b[0m \u001b[0;34m\u001b[0m\u001b[0m\n\u001b[1;32m    952\u001b[0m \u001b[0;34m\u001b[0m\u001b[0m\n",
            "\u001b[0;32m/usr/local/lib/python3.10/dist-packages/pandas/io/parsers/readers.py\u001b[0m in \u001b[0;36m_read\u001b[0;34m(filepath_or_buffer, kwds)\u001b[0m\n\u001b[1;32m    603\u001b[0m \u001b[0;34m\u001b[0m\u001b[0m\n\u001b[1;32m    604\u001b[0m     \u001b[0;31m# Create the parser.\u001b[0m\u001b[0;34m\u001b[0m\u001b[0;34m\u001b[0m\u001b[0m\n\u001b[0;32m--> 605\u001b[0;31m     \u001b[0mparser\u001b[0m \u001b[0;34m=\u001b[0m \u001b[0mTextFileReader\u001b[0m\u001b[0;34m(\u001b[0m\u001b[0mfilepath_or_buffer\u001b[0m\u001b[0;34m,\u001b[0m \u001b[0;34m**\u001b[0m\u001b[0mkwds\u001b[0m\u001b[0;34m)\u001b[0m\u001b[0;34m\u001b[0m\u001b[0;34m\u001b[0m\u001b[0m\n\u001b[0m\u001b[1;32m    606\u001b[0m \u001b[0;34m\u001b[0m\u001b[0m\n\u001b[1;32m    607\u001b[0m     \u001b[0;32mif\u001b[0m \u001b[0mchunksize\u001b[0m \u001b[0;32mor\u001b[0m \u001b[0miterator\u001b[0m\u001b[0;34m:\u001b[0m\u001b[0;34m\u001b[0m\u001b[0;34m\u001b[0m\u001b[0m\n",
            "\u001b[0;32m/usr/local/lib/python3.10/dist-packages/pandas/io/parsers/readers.py\u001b[0m in \u001b[0;36m__init__\u001b[0;34m(self, f, engine, **kwds)\u001b[0m\n\u001b[1;32m   1440\u001b[0m \u001b[0;34m\u001b[0m\u001b[0m\n\u001b[1;32m   1441\u001b[0m         \u001b[0mself\u001b[0m\u001b[0;34m.\u001b[0m\u001b[0mhandles\u001b[0m\u001b[0;34m:\u001b[0m \u001b[0mIOHandles\u001b[0m \u001b[0;34m|\u001b[0m \u001b[0;32mNone\u001b[0m \u001b[0;34m=\u001b[0m \u001b[0;32mNone\u001b[0m\u001b[0;34m\u001b[0m\u001b[0;34m\u001b[0m\u001b[0m\n\u001b[0;32m-> 1442\u001b[0;31m         \u001b[0mself\u001b[0m\u001b[0;34m.\u001b[0m\u001b[0m_engine\u001b[0m \u001b[0;34m=\u001b[0m \u001b[0mself\u001b[0m\u001b[0;34m.\u001b[0m\u001b[0m_make_engine\u001b[0m\u001b[0;34m(\u001b[0m\u001b[0mf\u001b[0m\u001b[0;34m,\u001b[0m \u001b[0mself\u001b[0m\u001b[0;34m.\u001b[0m\u001b[0mengine\u001b[0m\u001b[0;34m)\u001b[0m\u001b[0;34m\u001b[0m\u001b[0;34m\u001b[0m\u001b[0m\n\u001b[0m\u001b[1;32m   1443\u001b[0m \u001b[0;34m\u001b[0m\u001b[0m\n\u001b[1;32m   1444\u001b[0m     \u001b[0;32mdef\u001b[0m \u001b[0mclose\u001b[0m\u001b[0;34m(\u001b[0m\u001b[0mself\u001b[0m\u001b[0;34m)\u001b[0m \u001b[0;34m->\u001b[0m \u001b[0;32mNone\u001b[0m\u001b[0;34m:\u001b[0m\u001b[0;34m\u001b[0m\u001b[0;34m\u001b[0m\u001b[0m\n",
            "\u001b[0;32m/usr/local/lib/python3.10/dist-packages/pandas/io/parsers/readers.py\u001b[0m in \u001b[0;36m_make_engine\u001b[0;34m(self, f, engine)\u001b[0m\n\u001b[1;32m   1733\u001b[0m                 \u001b[0;32mif\u001b[0m \u001b[0;34m\"b\"\u001b[0m \u001b[0;32mnot\u001b[0m \u001b[0;32min\u001b[0m \u001b[0mmode\u001b[0m\u001b[0;34m:\u001b[0m\u001b[0;34m\u001b[0m\u001b[0;34m\u001b[0m\u001b[0m\n\u001b[1;32m   1734\u001b[0m                     \u001b[0mmode\u001b[0m \u001b[0;34m+=\u001b[0m \u001b[0;34m\"b\"\u001b[0m\u001b[0;34m\u001b[0m\u001b[0;34m\u001b[0m\u001b[0m\n\u001b[0;32m-> 1735\u001b[0;31m             self.handles = get_handle(\n\u001b[0m\u001b[1;32m   1736\u001b[0m                 \u001b[0mf\u001b[0m\u001b[0;34m,\u001b[0m\u001b[0;34m\u001b[0m\u001b[0;34m\u001b[0m\u001b[0m\n\u001b[1;32m   1737\u001b[0m                 \u001b[0mmode\u001b[0m\u001b[0;34m,\u001b[0m\u001b[0;34m\u001b[0m\u001b[0;34m\u001b[0m\u001b[0m\n",
            "\u001b[0;32m/usr/local/lib/python3.10/dist-packages/pandas/io/common.py\u001b[0m in \u001b[0;36mget_handle\u001b[0;34m(path_or_buf, mode, encoding, compression, memory_map, is_text, errors, storage_options)\u001b[0m\n\u001b[1;32m    854\u001b[0m         \u001b[0;32mif\u001b[0m \u001b[0mioargs\u001b[0m\u001b[0;34m.\u001b[0m\u001b[0mencoding\u001b[0m \u001b[0;32mand\u001b[0m \u001b[0;34m\"b\"\u001b[0m \u001b[0;32mnot\u001b[0m \u001b[0;32min\u001b[0m \u001b[0mioargs\u001b[0m\u001b[0;34m.\u001b[0m\u001b[0mmode\u001b[0m\u001b[0;34m:\u001b[0m\u001b[0;34m\u001b[0m\u001b[0;34m\u001b[0m\u001b[0m\n\u001b[1;32m    855\u001b[0m             \u001b[0;31m# Encoding\u001b[0m\u001b[0;34m\u001b[0m\u001b[0;34m\u001b[0m\u001b[0m\n\u001b[0;32m--> 856\u001b[0;31m             handle = open(\n\u001b[0m\u001b[1;32m    857\u001b[0m                 \u001b[0mhandle\u001b[0m\u001b[0;34m,\u001b[0m\u001b[0;34m\u001b[0m\u001b[0;34m\u001b[0m\u001b[0m\n\u001b[1;32m    858\u001b[0m                 \u001b[0mioargs\u001b[0m\u001b[0;34m.\u001b[0m\u001b[0mmode\u001b[0m\u001b[0;34m,\u001b[0m\u001b[0;34m\u001b[0m\u001b[0;34m\u001b[0m\u001b[0m\n",
            "\u001b[0;31mFileNotFoundError\u001b[0m: [Errno 2] No such file or directory: 'qalist.csv'"
          ]
        }
      ],
      "source": [
        "# import data\n",
        "df = pd.read_csv('qalist.csv')\n",
        "df.describe()"
      ]
    },
    {
      "cell_type": "code",
      "execution_count": null,
      "metadata": {
        "id": "htgFy6UGylEM"
      },
      "outputs": [],
      "source": [
        "df"
      ]
    },
    {
      "cell_type": "code",
      "execution_count": null,
      "metadata": {
        "id": "lTCi36uLHHwM"
      },
      "outputs": [],
      "source": [
        "x = df['question'].values\n",
        "y = df['class'].values"
      ]
    },
    {
      "cell_type": "code",
      "execution_count": null,
      "metadata": {
        "id": "UcdgolLsAgpc"
      },
      "outputs": [],
      "source": [
        "# Assuming df is your DataFrame containing 'question' and 'class' columns\n",
        "# Split the data into training and testing sets\n",
        "train_df, test_df = train_test_split(df, test_size=0.1, random_state=42)\n",
        "\n",
        "x_train = train_df['question'].values\n",
        "y_train = train_df['class'].values\n",
        "x_test = test_df['question'].values\n",
        "y_test = test_df['class'].values"
      ]
    },
    {
      "cell_type": "code",
      "execution_count": null,
      "metadata": {
        "id": "WdbEd48NzNAX"
      },
      "outputs": [],
      "source": [
        "# Plot the target distributions\n",
        "fig,ax =plt.subplots(1,2,figsize=(10,2))\n",
        "\n",
        "bins = [0,1,2,3,4,5,6,7]\n",
        "\n",
        "ax[0].hist(y_train,bins=bins)\n",
        "ax[0].set_title('y train')\n",
        "ax[1].hist(y_test,bins=bins)\n",
        "ax[1].set_title('y test')"
      ]
    },
    {
      "cell_type": "code",
      "execution_count": null,
      "metadata": {
        "id": "ER5BJbOtH38Q",
        "colab": {
          "base_uri": "https://localhost:8080/",
          "height": 145,
          "referenced_widgets": [
            "3570372219474e9b8689d5ddae9fbb40",
            "c451f8f78dd947729e87a44906cebc00",
            "12fb5c9159b144f4906166ebe327c2c7",
            "428981f599d146db826651efde17dc09",
            "2e9e1e2d267249d7a1807abe6ba1c36c",
            "6035ef46ee0f4df3800461542bc8fa4a",
            "8d6b54ba403c430c857960ea44b9972a",
            "01deb85a87d04de29cb3f48a2454753e",
            "96deb019eb8b4318a838a6401a85bb55",
            "f50c1fec64a947bf942f4c9979ae24e2",
            "25fce9d226df42a7a2fdac2f7553f841",
            "5e8bb16bc44540eabe8b43e2cc4faaae",
            "757ccc602416445c9072238a67e3eea4",
            "f98e4528cb3341f39901f18d0835aca3",
            "a1ac953d11af4b18bb616587b805cd06",
            "b497d089a3d94589a519e43f00516137",
            "4c6ab2228bf84a3c952ad6495a4a0d6b",
            "dad4c4166ccb40fe90cf438f5e06bc87",
            "ef2225a8afee4b82be5b23ac775e24a8",
            "3a5a483c9bc4477b8c8ffdd9c8fec991",
            "91e5db8abfa04642b2f601c6c25ab443",
            "b0c5b40d8a51420c9eed8451d49d8d3e",
            "c2b996a52f044a24a5fbe675df3d6299",
            "1520be9231db404f9c080ec10fe469ec",
            "e6214e5f8c194995a4a218978ed309dc",
            "8bd61039865445fb9b25b743c05f0fa7",
            "dd9d9e8b77564946bfccd48f6d4a860b",
            "095b7384ab4e4a1ab5e563d5d3359a9f",
            "a4d677fb10214a2a8700154e7bb897ea",
            "57907a31635140edbcf9cd7c9d030da9",
            "f967c975e57d4d6a94e606a4bd50f310",
            "5f5006289e7a4bbdabb16782b8b3826c",
            "978bf861123b46128a11288af7f00238",
            "7513b5fa3d0d4f748d8fb9a05beb1bf1",
            "75652c85d259449d825749459ab3bfc2",
            "01d5f1ed750742f48890e243864f3974",
            "0804193e4b51445bb1bf2a36e1abcb4e",
            "f91c0f7a88494919aa3f287a90e5a520",
            "6171834d26284baeac8ec5320210835e",
            "acfc2558780b454fadf2e48717218da3",
            "a15b1482358b42b68a86030daddf7a90",
            "b4f93a731fbb420fbbee541fdb00338a",
            "53be68d8cfb4442f8a90e387d82ee96c",
            "cad97d85358143ad94eee4bc167f0c5c"
          ]
        },
        "outputId": "589131d3-5f0e-4d8e-d408-d1d96f3fab1c"
      },
      "outputs": [
        {
          "output_type": "display_data",
          "data": {
            "text/plain": [
              "tokenizer_config.json:   0%|          | 0.00/453 [00:00<?, ?B/s]"
            ],
            "application/vnd.jupyter.widget-view+json": {
              "version_major": 2,
              "version_minor": 0,
              "model_id": "3570372219474e9b8689d5ddae9fbb40"
            }
          },
          "metadata": {}
        },
        {
          "output_type": "display_data",
          "data": {
            "text/plain": [
              "tokenizer.json:   0%|          | 0.00/16.3M [00:00<?, ?B/s]"
            ],
            "application/vnd.jupyter.widget-view+json": {
              "version_major": 2,
              "version_minor": 0,
              "model_id": "5e8bb16bc44540eabe8b43e2cc4faaae"
            }
          },
          "metadata": {}
        },
        {
          "output_type": "display_data",
          "data": {
            "text/plain": [
              "added_tokens.json:   0%|          | 0.00/23.0 [00:00<?, ?B/s]"
            ],
            "application/vnd.jupyter.widget-view+json": {
              "version_major": 2,
              "version_minor": 0,
              "model_id": "c2b996a52f044a24a5fbe675df3d6299"
            }
          },
          "metadata": {}
        },
        {
          "output_type": "display_data",
          "data": {
            "text/plain": [
              "special_tokens_map.json:   0%|          | 0.00/173 [00:00<?, ?B/s]"
            ],
            "application/vnd.jupyter.widget-view+json": {
              "version_major": 2,
              "version_minor": 0,
              "model_id": "7513b5fa3d0d4f748d8fb9a05beb1bf1"
            }
          },
          "metadata": {}
        }
      ],
      "source": [
        "# Tokenize the input text\n",
        "tokenizer = AutoTokenizer.from_pretrained(\"timpal0l/mdeberta-v3-base-squad2\", padding_side='left')"
      ]
    },
    {
      "cell_type": "code",
      "execution_count": null,
      "metadata": {
        "id": "RQHzEYZSAgnJ"
      },
      "outputs": [],
      "source": [
        "# Tokenize the input text and convert to NumPy array\n",
        "x_train_tokenized = [tokenizer.encode(text, truncation=True, padding='max_length', max_length=20) for text in x_train]\n",
        "x_train_tokenized = np.array([np.array(inner_list, dtype=np.int32) for inner_list in x_train_tokenized])\n",
        "\n",
        "x_test_tokenized = [tokenizer.encode(text, truncation=True, padding='max_length', max_length=20) for text in x_test]\n",
        "x_test_tokenized = np.array([np.array(inner_list, dtype=np.int32) for inner_list in x_test_tokenized])\n",
        "\n",
        "# Flatten the tokenized sequences for decision tree\n",
        "x_train_flat = x_train_tokenized.reshape(x_train_tokenized.shape[0], -1)\n",
        "x_test_flat = x_test_tokenized.reshape(x_test_tokenized.shape[0], -1)\n"
      ]
    },
    {
      "cell_type": "code",
      "execution_count": null,
      "metadata": {
        "id": "mlU2kG-YHTzg"
      },
      "outputs": [],
      "source": [
        "x_tokenized = [tokenizer.encode(text, truncation=True, padding='max_length', max_length=20) for text in x]\n",
        "x_tokenized = np.array([np.array(inner_list, dtype=np.int32) for inner_list in x_tokenized])\n",
        "x_flat = x_tokenized.reshape(x_tokenized.shape[0], -1)\n"
      ]
    },
    {
      "cell_type": "markdown",
      "metadata": {
        "id": "c-Wl-XDI0D5Z"
      },
      "source": [
        "# Train classification with decision tree\n",
        "we choose decision tree because it suitable with extra small dataset (our dataset have 203 samples and seperate to 7 classes)"
      ]
    },
    {
      "cell_type": "code",
      "execution_count": null,
      "metadata": {
        "id": "K9z0v-5TzI37"
      },
      "outputs": [],
      "source": [
        "# Create a Decision Tree Classifier\n",
        "best_params_augment = {'criterion': 'gini', 'max_depth': None, 'max_features': 'log2', 'max_leaf_nodes': None, 'min_impurity_decrease': 0.0, 'min_samples_leaf': 1, 'min_samples_split': 2, 'min_weight_fraction_leaf': 0.0}\n",
        "best_params_nonaugment = {'criterion': 'gini', 'max_depth': 10, 'max_features': 'log2', 'max_leaf_nodes': 100, 'min_impurity_decrease': 0.0, 'min_samples_leaf': 2, 'min_samples_split': 2, 'min_weight_fraction_leaf': 0.0}\n",
        "decision_tree = DecisionTreeClassifier(**best_params_nonaugment)\n",
        "\n",
        "# Train the Decision Tree model\n",
        "decision_tree.fit(x_train_flat, y_train)\n",
        "\n",
        "# Make predictions on the test set\n",
        "predictions = decision_tree.predict(x_test_flat)"
      ]
    },
    {
      "cell_type": "code",
      "source": [
        "# Evaluate the model\n",
        "accuracy = accuracy_score(y_test, predictions)\n",
        "print(f\"Decision Tree Accuracy: {accuracy}\")\n",
        "\n",
        "f1 = f1_score(y_test, predictions, average= None)\n",
        "average_f1 = mean(f1)\n",
        "print(f\"f1 Score: {average_f1}\")"
      ],
      "metadata": {
        "id": "VuGnml2apArR"
      },
      "execution_count": null,
      "outputs": []
    },
    {
      "cell_type": "code",
      "execution_count": null,
      "metadata": {
        "id": "NWJA2hTVIhZo"
      },
      "outputs": [],
      "source": [
        "def predict_class_for_sample(new_sample):\n",
        "    # Tokenize the new sample\n",
        "    new_sample_tokenized = tokenizer.encode(new_sample, truncation=True, padding='max_length', max_length=20)\n",
        "    new_sample_tokenized = np.array(new_sample_tokenized, dtype=np.int32)\n",
        "\n",
        "    # Flatten the tokenized sequence for decision tree\n",
        "    new_sample_flat = new_sample_tokenized.flatten()\n",
        "\n",
        "    # Reshape to (1, 50) since you are predicting a single sample\n",
        "    new_sample_flat = new_sample_flat.reshape(1, -1)\n",
        "\n",
        "    # Make prediction on the new sample\n",
        "    prediction_new_sample = decision_tree.predict(new_sample_flat)\n",
        "\n",
        "    label_to_text = ['ความหมาย','ประโยชน์','ข้อเสีย','ความเสี่ยง','การดูแลรักษา','ข้อควรระวัง','การเตรียมตัว','สาเหตุ']\n",
        "\n",
        "    result = label_to_text[int(prediction_new_sample)]\n",
        "\n",
        "    return result"
      ]
    },
    {
      "cell_type": "markdown",
      "metadata": {
        "id": "bQtei-d30oL6"
      },
      "source": [
        "# Train classification with Random Forest\n",
        "we choose Random Forest because it suitable with extra small dataset (our dataset have 203 samples and seperate to 7 classes)"
      ]
    },
    {
      "cell_type": "code",
      "execution_count": null,
      "metadata": {
        "id": "RwZAPArA8cBG"
      },
      "outputs": [],
      "source": [
        "# from sklearn.ensemble import RandomForestClassifier\n",
        "# from sklearn.model_selection import train_test_split,GridSearchCV\n",
        "# from sklearn.metrics import accuracy_score\n",
        "\n",
        "# # Create a Random Forest classifier\n",
        "# rf_model = RandomForestClassifier()\n",
        "\n",
        "# # Define the parameter grid for grid search\n",
        "# param_grid = {\n",
        "#     'n_estimators': [50, 100, 200],\n",
        "#     'criterion': ['gini', 'entropy'],\n",
        "#     'max_depth': [None, 10, 20],\n",
        "#     'min_samples_split': [2, 5, 10],\n",
        "#     'min_samples_leaf': [1, 2, 4],\n",
        "#     'max_features': ['sqrt', 'log2'],\n",
        "#     'min_weight_fraction_leaf': [0.0, 0.1, 0.2],\n",
        "#     'max_leaf_nodes': [None, 50, 100],\n",
        "#     'min_impurity_decrease': [0.0, 0.1, 0.2]\n",
        "# }\n",
        "\n",
        "# # Perform grid search to find the best combination of parameters\n",
        "# grid_search = GridSearchCV(estimator=rf_model, param_grid=param_grid, cv=3,n_jobs=-1)\n",
        "# grid_search.fit(x_train_flat, y_train)\n",
        "\n",
        "# # Get the best parameters from the grid search\n",
        "# best_params = grid_search.best_params_\n",
        "# print(\"Best Parameters:\", best_params)\n",
        "\n",
        "# # Train the model on the training data\n",
        "# final_rf_model = RandomForestClassifier(**best_params)\n",
        "# final_rf_model.fit(x_train_flat, y_train)\n",
        "\n",
        "# # Make predictions on the test data\n",
        "# rf_y_pred = final_rf_model.predict(x_test_flat)\n",
        "\n",
        "# # Evaluate the accuracy of the model\n",
        "# rf_accuracy = accuracy_score(y_test, rf_y_pred)\n",
        "# print(f\"Accuracy: {rf_accuracy}\")"
      ]
    },
    {
      "cell_type": "code",
      "source": [
        "# from sklearn.ensemble import RandomForestClassifier\n",
        "# from sklearn.model_selection import train_test_split,GridSearchCV\n",
        "\n",
        "# # Get the best parameters from the grid search\n",
        "# rf_best_params_augment = {'criterion': 'gini', 'max_depth': None, 'max_features': 'log2', 'max_leaf_nodes': None, 'min_impurity_decrease': 0.0, 'min_samples_leaf': 1, 'min_samples_split': 2, 'min_weight_fraction_leaf': 0.0, 'n_estimators': 200}\n",
        "# rf_best_params_nonaugment = {'criterion': 'gini', 'max_depth': 10, 'max_features': 'log2', 'max_leaf_nodes': 100, 'min_impurity_decrease': 0.0, 'min_samples_leaf': 2, 'min_samples_split': 2, 'min_weight_fraction_leaf': 0.0, 'n_estimators': 50}\n",
        "\n",
        "# # Train the model on the training data\n",
        "# final_rf_model = RandomForestClassifier(**rf_best_params_augment)\n",
        "# final_rf_model.fit(x_train_flat, y_train)"
      ],
      "metadata": {
        "id": "rozYM5wwvb_R"
      },
      "execution_count": null,
      "outputs": []
    },
    {
      "cell_type": "markdown",
      "source": [
        "# Evaluate the model"
      ],
      "metadata": {
        "id": "sU0JjzZNdk5g"
      }
    },
    {
      "cell_type": "code",
      "source": [
        "from sklearn.metrics import f1_score, accuracy_score\n",
        "from statistics import mean\n",
        "# Make predictions on the test data\n",
        "rf_y_pred = final_rf_model.predict(x_test_flat)\n",
        "\n",
        "# Evaluate the accuracy of the model\n",
        "rf_accuracy = accuracy_score(y_test, rf_y_pred)\n",
        "print(f\"Accuracy: {rf_accuracy}\")\n",
        "\n",
        "rf_f1 = f1_score(y_test, rf_y_pred, average= None)\n",
        "rf_average_f1 = mean(rf_f1)\n",
        "print(f\"f1 Score: {rf_average_f1}\")"
      ],
      "metadata": {
        "colab": {
          "base_uri": "https://localhost:8080/",
          "height": 245
        },
        "id": "wDWy7FKldikE",
        "outputId": "1b0ad5f0-d82c-4c3a-f35d-4668379f1883"
      },
      "execution_count": null,
      "outputs": [
        {
          "output_type": "error",
          "ename": "NameError",
          "evalue": "ignored",
          "traceback": [
            "\u001b[0;31m---------------------------------------------------------------------------\u001b[0m",
            "\u001b[0;31mNameError\u001b[0m                                 Traceback (most recent call last)",
            "\u001b[0;32m<ipython-input-7-b59d59f79c61>\u001b[0m in \u001b[0;36m<cell line: 4>\u001b[0;34m()\u001b[0m\n\u001b[1;32m      2\u001b[0m \u001b[0;32mfrom\u001b[0m \u001b[0mstatistics\u001b[0m \u001b[0;32mimport\u001b[0m \u001b[0mmean\u001b[0m\u001b[0;34m\u001b[0m\u001b[0;34m\u001b[0m\u001b[0m\n\u001b[1;32m      3\u001b[0m \u001b[0;31m# Make predictions on the test data\u001b[0m\u001b[0;34m\u001b[0m\u001b[0;34m\u001b[0m\u001b[0m\n\u001b[0;32m----> 4\u001b[0;31m \u001b[0mrf_y_pred\u001b[0m \u001b[0;34m=\u001b[0m \u001b[0mfinal_rf_model\u001b[0m\u001b[0;34m.\u001b[0m\u001b[0mpredict\u001b[0m\u001b[0;34m(\u001b[0m\u001b[0mx_test_flat\u001b[0m\u001b[0;34m)\u001b[0m\u001b[0;34m\u001b[0m\u001b[0;34m\u001b[0m\u001b[0m\n\u001b[0m\u001b[1;32m      5\u001b[0m \u001b[0;34m\u001b[0m\u001b[0m\n\u001b[1;32m      6\u001b[0m \u001b[0;31m# Evaluate the accuracy of the model\u001b[0m\u001b[0;34m\u001b[0m\u001b[0;34m\u001b[0m\u001b[0m\n",
            "\u001b[0;31mNameError\u001b[0m: name 'final_rf_model' is not defined"
          ]
        }
      ]
    },
    {
      "cell_type": "markdown",
      "source": [
        "# Load Random Forest Model"
      ],
      "metadata": {
        "id": "2GNfDwA9QQYA"
      }
    },
    {
      "cell_type": "code",
      "source": [
        "from joblib import load\n",
        "\n",
        "model_filename = 'random_forest_model.joblib'\n",
        "final_rf_model = load(model_filename)"
      ],
      "metadata": {
        "id": "zbUaIZrPQHEl"
      },
      "execution_count": null,
      "outputs": []
    },
    {
      "cell_type": "code",
      "source": [
        "def predict_class_for_sampleRF(new_sample):\n",
        "    # Tokenize the new sample\n",
        "    new_sample_tokenized = tokenizer.encode(new_sample, truncation=True, padding='max_length', max_length=20)\n",
        "    new_sample_tokenized = np.array(new_sample_tokenized, dtype=np.int32)\n",
        "\n",
        "    # Flatten the tokenized sequence for decision tree\n",
        "    new_sample_flat = new_sample_tokenized.flatten()\n",
        "\n",
        "    # Reshape to (1, 50) since you are predicting a single sample\n",
        "    new_sample_flat = new_sample_flat.reshape(1, -1)\n",
        "\n",
        "    # Make prediction on the new sample\n",
        "    prediction_new_sample = final_rf_model.predict(new_sample_flat)\n",
        "\n",
        "    label_to_text = ['ความหมาย','ประโยชน์','ข้อเสีย','ความเสี่ยง','การดูแลรักษา','ข้อควรระวัง','การเตรียมตัว','สาเหตุ']\n",
        "\n",
        "    result = label_to_text[int(prediction_new_sample)]\n",
        "\n",
        "    return result"
      ],
      "metadata": {
        "id": "S3lj2id7vyrh"
      },
      "execution_count": null,
      "outputs": []
    },
    {
      "cell_type": "markdown",
      "metadata": {
        "id": "IXVj7Owd8R8n"
      },
      "source": [
        "# Load model from Huggingface via tranformers"
      ]
    },
    {
      "cell_type": "code",
      "execution_count": null,
      "metadata": {
        "id": "yv6nzon18MyK",
        "colab": {
          "base_uri": "https://localhost:8080/",
          "height": 81,
          "referenced_widgets": [
            "ac029aed5c3f4c56b1244563a8a50c2d",
            "7dc6d482209f42a78a9dcc095b04d62b",
            "140da326ef23449ca3087f7aa491a17d",
            "23f3e9d3ed3c434cb9b76e71193cc569",
            "cd707005d4b04c11ac26f419e132ce82",
            "de5e77a9825f4d1cb4af86bfdd4fab39",
            "6300276e1781445e9b77a8348cac5b4d",
            "6aac9de4876a40e7a689d84658b752b7",
            "b863ab9516354b2cbaa11bddc8ae70c3",
            "2bd05779a8cc4a90b5644f4cdeefddb5",
            "5ddd40cd1c5a42f8a76ff9b586ae02d5",
            "b9f6c7c6f79a499b87f9fc32f306dec3",
            "85e7b1d71f244ef283da4070516666ca",
            "66fb042f42d646e88e3fed52a1f57b82",
            "1aae9f9979594e6e8a3963e03c812bc0",
            "fde77cd0deb54f19834666e8389b3d34",
            "397bf90733d14b729cf2ab633e295f7f",
            "5554d0fcef1042d58a0e2d7d2c14f3fb",
            "8964328434884476872d63c46ee700e4",
            "98ffc964e0d243b5ae905eb0d62235d0",
            "9f67624367f342c4a909160d090b2c24",
            "37153eec49cd43b5b1e2fb816bcb1c80"
          ]
        },
        "outputId": "e114298d-2c66-462c-beaa-69de2a10538d"
      },
      "outputs": [
        {
          "output_type": "display_data",
          "data": {
            "text/plain": [
              "config.json:   0%|          | 0.00/879 [00:00<?, ?B/s]"
            ],
            "application/vnd.jupyter.widget-view+json": {
              "version_major": 2,
              "version_minor": 0,
              "model_id": "ac029aed5c3f4c56b1244563a8a50c2d"
            }
          },
          "metadata": {}
        },
        {
          "output_type": "display_data",
          "data": {
            "text/plain": [
              "model.safetensors:   0%|          | 0.00/1.11G [00:00<?, ?B/s]"
            ],
            "application/vnd.jupyter.widget-view+json": {
              "version_major": 2,
              "version_minor": 0,
              "model_id": "b9f6c7c6f79a499b87f9fc32f306dec3"
            }
          },
          "metadata": {}
        }
      ],
      "source": [
        "#define model\n",
        "model = AutoModelForQuestionAnswering.from_pretrained(\"timpal0l/mdeberta-v3-base-squad2\")"
      ]
    },
    {
      "cell_type": "code",
      "source": [
        "model"
      ],
      "metadata": {
        "colab": {
          "base_uri": "https://localhost:8080/"
        },
        "id": "iFEik4sIXtRo",
        "outputId": "ac8f9312-4604-4554-aaf5-71e850f5e73b"
      },
      "execution_count": null,
      "outputs": [
        {
          "output_type": "execute_result",
          "data": {
            "text/plain": [
              "DebertaV2ForQuestionAnswering(\n",
              "  (deberta): DebertaV2Model(\n",
              "    (embeddings): DebertaV2Embeddings(\n",
              "      (word_embeddings): Embedding(251000, 768, padding_idx=0)\n",
              "      (LayerNorm): LayerNorm((768,), eps=1e-07, elementwise_affine=True)\n",
              "      (dropout): StableDropout()\n",
              "    )\n",
              "    (encoder): DebertaV2Encoder(\n",
              "      (layer): ModuleList(\n",
              "        (0-11): 12 x DebertaV2Layer(\n",
              "          (attention): DebertaV2Attention(\n",
              "            (self): DisentangledSelfAttention(\n",
              "              (query_proj): Linear(in_features=768, out_features=768, bias=True)\n",
              "              (key_proj): Linear(in_features=768, out_features=768, bias=True)\n",
              "              (value_proj): Linear(in_features=768, out_features=768, bias=True)\n",
              "              (pos_dropout): StableDropout()\n",
              "              (dropout): StableDropout()\n",
              "            )\n",
              "            (output): DebertaV2SelfOutput(\n",
              "              (dense): Linear(in_features=768, out_features=768, bias=True)\n",
              "              (LayerNorm): LayerNorm((768,), eps=1e-07, elementwise_affine=True)\n",
              "              (dropout): StableDropout()\n",
              "            )\n",
              "          )\n",
              "          (intermediate): DebertaV2Intermediate(\n",
              "            (dense): Linear(in_features=768, out_features=3072, bias=True)\n",
              "            (intermediate_act_fn): GELUActivation()\n",
              "          )\n",
              "          (output): DebertaV2Output(\n",
              "            (dense): Linear(in_features=3072, out_features=768, bias=True)\n",
              "            (LayerNorm): LayerNorm((768,), eps=1e-07, elementwise_affine=True)\n",
              "            (dropout): StableDropout()\n",
              "          )\n",
              "        )\n",
              "      )\n",
              "      (rel_embeddings): Embedding(512, 768)\n",
              "      (LayerNorm): LayerNorm((768,), eps=1e-07, elementwise_affine=True)\n",
              "    )\n",
              "  )\n",
              "  (qa_outputs): Linear(in_features=768, out_features=2, bias=True)\n",
              ")"
            ]
          },
          "metadata": {},
          "execution_count": 11
        }
      ]
    },
    {
      "cell_type": "markdown",
      "metadata": {
        "id": "e0oVyy_3mRS0"
      },
      "source": [
        "# Test qa system by using question classifier"
      ]
    },
    {
      "cell_type": "code",
      "source": [
        "df_question = pd.read_csv('questions.csv')\n",
        "questions = df_question['question'].values\n",
        "labels = df_question['class'].values"
      ],
      "metadata": {
        "id": "1VBlRaQyl4E9",
        "colab": {
          "base_uri": "https://localhost:8080/",
          "height": 356
        },
        "outputId": "18141db1-2c23-4e07-f0e0-0ad95e2e89ee"
      },
      "execution_count": null,
      "outputs": [
        {
          "output_type": "error",
          "ename": "FileNotFoundError",
          "evalue": "ignored",
          "traceback": [
            "\u001b[0;31m---------------------------------------------------------------------------\u001b[0m",
            "\u001b[0;31mFileNotFoundError\u001b[0m                         Traceback (most recent call last)",
            "\u001b[0;32m<ipython-input-18-341998fb0496>\u001b[0m in \u001b[0;36m<cell line: 1>\u001b[0;34m()\u001b[0m\n\u001b[0;32m----> 1\u001b[0;31m \u001b[0mdf_question\u001b[0m \u001b[0;34m=\u001b[0m \u001b[0mpd\u001b[0m\u001b[0;34m.\u001b[0m\u001b[0mread_csv\u001b[0m\u001b[0;34m(\u001b[0m\u001b[0;34m'questions.csv'\u001b[0m\u001b[0;34m)\u001b[0m\u001b[0;34m\u001b[0m\u001b[0;34m\u001b[0m\u001b[0m\n\u001b[0m\u001b[1;32m      2\u001b[0m \u001b[0mquestions\u001b[0m \u001b[0;34m=\u001b[0m \u001b[0mdf_question\u001b[0m\u001b[0;34m[\u001b[0m\u001b[0;34m'question'\u001b[0m\u001b[0;34m]\u001b[0m\u001b[0;34m.\u001b[0m\u001b[0mvalues\u001b[0m\u001b[0;34m\u001b[0m\u001b[0;34m\u001b[0m\u001b[0m\n\u001b[1;32m      3\u001b[0m \u001b[0mlabels\u001b[0m \u001b[0;34m=\u001b[0m \u001b[0mdf_question\u001b[0m\u001b[0;34m[\u001b[0m\u001b[0;34m'class'\u001b[0m\u001b[0;34m]\u001b[0m\u001b[0;34m.\u001b[0m\u001b[0mvalues\u001b[0m\u001b[0;34m\u001b[0m\u001b[0;34m\u001b[0m\u001b[0m\n",
            "\u001b[0;32m/usr/local/lib/python3.10/dist-packages/pandas/util/_decorators.py\u001b[0m in \u001b[0;36mwrapper\u001b[0;34m(*args, **kwargs)\u001b[0m\n\u001b[1;32m    209\u001b[0m                 \u001b[0;32melse\u001b[0m\u001b[0;34m:\u001b[0m\u001b[0;34m\u001b[0m\u001b[0;34m\u001b[0m\u001b[0m\n\u001b[1;32m    210\u001b[0m                     \u001b[0mkwargs\u001b[0m\u001b[0;34m[\u001b[0m\u001b[0mnew_arg_name\u001b[0m\u001b[0;34m]\u001b[0m \u001b[0;34m=\u001b[0m \u001b[0mnew_arg_value\u001b[0m\u001b[0;34m\u001b[0m\u001b[0;34m\u001b[0m\u001b[0m\n\u001b[0;32m--> 211\u001b[0;31m             \u001b[0;32mreturn\u001b[0m \u001b[0mfunc\u001b[0m\u001b[0;34m(\u001b[0m\u001b[0;34m*\u001b[0m\u001b[0margs\u001b[0m\u001b[0;34m,\u001b[0m \u001b[0;34m**\u001b[0m\u001b[0mkwargs\u001b[0m\u001b[0;34m)\u001b[0m\u001b[0;34m\u001b[0m\u001b[0;34m\u001b[0m\u001b[0m\n\u001b[0m\u001b[1;32m    212\u001b[0m \u001b[0;34m\u001b[0m\u001b[0m\n\u001b[1;32m    213\u001b[0m         \u001b[0;32mreturn\u001b[0m \u001b[0mcast\u001b[0m\u001b[0;34m(\u001b[0m\u001b[0mF\u001b[0m\u001b[0;34m,\u001b[0m \u001b[0mwrapper\u001b[0m\u001b[0;34m)\u001b[0m\u001b[0;34m\u001b[0m\u001b[0;34m\u001b[0m\u001b[0m\n",
            "\u001b[0;32m/usr/local/lib/python3.10/dist-packages/pandas/util/_decorators.py\u001b[0m in \u001b[0;36mwrapper\u001b[0;34m(*args, **kwargs)\u001b[0m\n\u001b[1;32m    329\u001b[0m                     \u001b[0mstacklevel\u001b[0m\u001b[0;34m=\u001b[0m\u001b[0mfind_stack_level\u001b[0m\u001b[0;34m(\u001b[0m\u001b[0;34m)\u001b[0m\u001b[0;34m,\u001b[0m\u001b[0;34m\u001b[0m\u001b[0;34m\u001b[0m\u001b[0m\n\u001b[1;32m    330\u001b[0m                 )\n\u001b[0;32m--> 331\u001b[0;31m             \u001b[0;32mreturn\u001b[0m \u001b[0mfunc\u001b[0m\u001b[0;34m(\u001b[0m\u001b[0;34m*\u001b[0m\u001b[0margs\u001b[0m\u001b[0;34m,\u001b[0m \u001b[0;34m**\u001b[0m\u001b[0mkwargs\u001b[0m\u001b[0;34m)\u001b[0m\u001b[0;34m\u001b[0m\u001b[0;34m\u001b[0m\u001b[0m\n\u001b[0m\u001b[1;32m    332\u001b[0m \u001b[0;34m\u001b[0m\u001b[0m\n\u001b[1;32m    333\u001b[0m         \u001b[0;31m# error: \"Callable[[VarArg(Any), KwArg(Any)], Any]\" has no\u001b[0m\u001b[0;34m\u001b[0m\u001b[0;34m\u001b[0m\u001b[0m\n",
            "\u001b[0;32m/usr/local/lib/python3.10/dist-packages/pandas/io/parsers/readers.py\u001b[0m in \u001b[0;36mread_csv\u001b[0;34m(filepath_or_buffer, sep, delimiter, header, names, index_col, usecols, squeeze, prefix, mangle_dupe_cols, dtype, engine, converters, true_values, false_values, skipinitialspace, skiprows, skipfooter, nrows, na_values, keep_default_na, na_filter, verbose, skip_blank_lines, parse_dates, infer_datetime_format, keep_date_col, date_parser, dayfirst, cache_dates, iterator, chunksize, compression, thousands, decimal, lineterminator, quotechar, quoting, doublequote, escapechar, comment, encoding, encoding_errors, dialect, error_bad_lines, warn_bad_lines, on_bad_lines, delim_whitespace, low_memory, memory_map, float_precision, storage_options)\u001b[0m\n\u001b[1;32m    948\u001b[0m     \u001b[0mkwds\u001b[0m\u001b[0;34m.\u001b[0m\u001b[0mupdate\u001b[0m\u001b[0;34m(\u001b[0m\u001b[0mkwds_defaults\u001b[0m\u001b[0;34m)\u001b[0m\u001b[0;34m\u001b[0m\u001b[0;34m\u001b[0m\u001b[0m\n\u001b[1;32m    949\u001b[0m \u001b[0;34m\u001b[0m\u001b[0m\n\u001b[0;32m--> 950\u001b[0;31m     \u001b[0;32mreturn\u001b[0m \u001b[0m_read\u001b[0m\u001b[0;34m(\u001b[0m\u001b[0mfilepath_or_buffer\u001b[0m\u001b[0;34m,\u001b[0m \u001b[0mkwds\u001b[0m\u001b[0;34m)\u001b[0m\u001b[0;34m\u001b[0m\u001b[0;34m\u001b[0m\u001b[0m\n\u001b[0m\u001b[1;32m    951\u001b[0m \u001b[0;34m\u001b[0m\u001b[0m\n\u001b[1;32m    952\u001b[0m \u001b[0;34m\u001b[0m\u001b[0m\n",
            "\u001b[0;32m/usr/local/lib/python3.10/dist-packages/pandas/io/parsers/readers.py\u001b[0m in \u001b[0;36m_read\u001b[0;34m(filepath_or_buffer, kwds)\u001b[0m\n\u001b[1;32m    603\u001b[0m \u001b[0;34m\u001b[0m\u001b[0m\n\u001b[1;32m    604\u001b[0m     \u001b[0;31m# Create the parser.\u001b[0m\u001b[0;34m\u001b[0m\u001b[0;34m\u001b[0m\u001b[0m\n\u001b[0;32m--> 605\u001b[0;31m     \u001b[0mparser\u001b[0m \u001b[0;34m=\u001b[0m \u001b[0mTextFileReader\u001b[0m\u001b[0;34m(\u001b[0m\u001b[0mfilepath_or_buffer\u001b[0m\u001b[0;34m,\u001b[0m \u001b[0;34m**\u001b[0m\u001b[0mkwds\u001b[0m\u001b[0;34m)\u001b[0m\u001b[0;34m\u001b[0m\u001b[0;34m\u001b[0m\u001b[0m\n\u001b[0m\u001b[1;32m    606\u001b[0m \u001b[0;34m\u001b[0m\u001b[0m\n\u001b[1;32m    607\u001b[0m     \u001b[0;32mif\u001b[0m \u001b[0mchunksize\u001b[0m \u001b[0;32mor\u001b[0m \u001b[0miterator\u001b[0m\u001b[0;34m:\u001b[0m\u001b[0;34m\u001b[0m\u001b[0;34m\u001b[0m\u001b[0m\n",
            "\u001b[0;32m/usr/local/lib/python3.10/dist-packages/pandas/io/parsers/readers.py\u001b[0m in \u001b[0;36m__init__\u001b[0;34m(self, f, engine, **kwds)\u001b[0m\n\u001b[1;32m   1440\u001b[0m \u001b[0;34m\u001b[0m\u001b[0m\n\u001b[1;32m   1441\u001b[0m         \u001b[0mself\u001b[0m\u001b[0;34m.\u001b[0m\u001b[0mhandles\u001b[0m\u001b[0;34m:\u001b[0m \u001b[0mIOHandles\u001b[0m \u001b[0;34m|\u001b[0m \u001b[0;32mNone\u001b[0m \u001b[0;34m=\u001b[0m \u001b[0;32mNone\u001b[0m\u001b[0;34m\u001b[0m\u001b[0;34m\u001b[0m\u001b[0m\n\u001b[0;32m-> 1442\u001b[0;31m         \u001b[0mself\u001b[0m\u001b[0;34m.\u001b[0m\u001b[0m_engine\u001b[0m \u001b[0;34m=\u001b[0m \u001b[0mself\u001b[0m\u001b[0;34m.\u001b[0m\u001b[0m_make_engine\u001b[0m\u001b[0;34m(\u001b[0m\u001b[0mf\u001b[0m\u001b[0;34m,\u001b[0m \u001b[0mself\u001b[0m\u001b[0;34m.\u001b[0m\u001b[0mengine\u001b[0m\u001b[0;34m)\u001b[0m\u001b[0;34m\u001b[0m\u001b[0;34m\u001b[0m\u001b[0m\n\u001b[0m\u001b[1;32m   1443\u001b[0m \u001b[0;34m\u001b[0m\u001b[0m\n\u001b[1;32m   1444\u001b[0m     \u001b[0;32mdef\u001b[0m \u001b[0mclose\u001b[0m\u001b[0;34m(\u001b[0m\u001b[0mself\u001b[0m\u001b[0;34m)\u001b[0m \u001b[0;34m->\u001b[0m \u001b[0;32mNone\u001b[0m\u001b[0;34m:\u001b[0m\u001b[0;34m\u001b[0m\u001b[0;34m\u001b[0m\u001b[0m\n",
            "\u001b[0;32m/usr/local/lib/python3.10/dist-packages/pandas/io/parsers/readers.py\u001b[0m in \u001b[0;36m_make_engine\u001b[0;34m(self, f, engine)\u001b[0m\n\u001b[1;32m   1733\u001b[0m                 \u001b[0;32mif\u001b[0m \u001b[0;34m\"b\"\u001b[0m \u001b[0;32mnot\u001b[0m \u001b[0;32min\u001b[0m \u001b[0mmode\u001b[0m\u001b[0;34m:\u001b[0m\u001b[0;34m\u001b[0m\u001b[0;34m\u001b[0m\u001b[0m\n\u001b[1;32m   1734\u001b[0m                     \u001b[0mmode\u001b[0m \u001b[0;34m+=\u001b[0m \u001b[0;34m\"b\"\u001b[0m\u001b[0;34m\u001b[0m\u001b[0;34m\u001b[0m\u001b[0m\n\u001b[0;32m-> 1735\u001b[0;31m             self.handles = get_handle(\n\u001b[0m\u001b[1;32m   1736\u001b[0m                 \u001b[0mf\u001b[0m\u001b[0;34m,\u001b[0m\u001b[0;34m\u001b[0m\u001b[0;34m\u001b[0m\u001b[0m\n\u001b[1;32m   1737\u001b[0m                 \u001b[0mmode\u001b[0m\u001b[0;34m,\u001b[0m\u001b[0;34m\u001b[0m\u001b[0;34m\u001b[0m\u001b[0m\n",
            "\u001b[0;32m/usr/local/lib/python3.10/dist-packages/pandas/io/common.py\u001b[0m in \u001b[0;36mget_handle\u001b[0;34m(path_or_buf, mode, encoding, compression, memory_map, is_text, errors, storage_options)\u001b[0m\n\u001b[1;32m    854\u001b[0m         \u001b[0;32mif\u001b[0m \u001b[0mioargs\u001b[0m\u001b[0;34m.\u001b[0m\u001b[0mencoding\u001b[0m \u001b[0;32mand\u001b[0m \u001b[0;34m\"b\"\u001b[0m \u001b[0;32mnot\u001b[0m \u001b[0;32min\u001b[0m \u001b[0mioargs\u001b[0m\u001b[0;34m.\u001b[0m\u001b[0mmode\u001b[0m\u001b[0;34m:\u001b[0m\u001b[0;34m\u001b[0m\u001b[0;34m\u001b[0m\u001b[0m\n\u001b[1;32m    855\u001b[0m             \u001b[0;31m# Encoding\u001b[0m\u001b[0;34m\u001b[0m\u001b[0;34m\u001b[0m\u001b[0m\n\u001b[0;32m--> 856\u001b[0;31m             handle = open(\n\u001b[0m\u001b[1;32m    857\u001b[0m                 \u001b[0mhandle\u001b[0m\u001b[0;34m,\u001b[0m\u001b[0;34m\u001b[0m\u001b[0;34m\u001b[0m\u001b[0m\n\u001b[1;32m    858\u001b[0m                 \u001b[0mioargs\u001b[0m\u001b[0;34m.\u001b[0m\u001b[0mmode\u001b[0m\u001b[0;34m,\u001b[0m\u001b[0;34m\u001b[0m\u001b[0;34m\u001b[0m\u001b[0m\n",
            "\u001b[0;31mFileNotFoundError\u001b[0m: [Errno 2] No such file or directory: 'questions.csv'"
          ]
        }
      ]
    },
    {
      "cell_type": "code",
      "execution_count": null,
      "metadata": {
        "id": "c28dWbCj8M5e"
      },
      "outputs": [],
      "source": [
        "context_list = {\n",
        "    \"context1\" : {\n",
        "        \"context\" : \"การถอนฟันคือกระบวนการทางทันตกรรมที่เกี่ยวข้องกับการนำฟันออกจากช่องปากของผู้ป่วยโดยใช้เครื่องมือทันตกรรมที่เหมาะสม การถอนฟันมีวัตถุประสงค์หลายประการเช่นเมื่อฟันที่คุณภาพด้อยและไม่สามารถฟื้นตัวได้เมื่อฟันเสียหายจากการบาดเจ็บหรือเมื่อมีปัญหาทันตกรรมอื่นๆที่ทำให้จำเป็นต้องถอนฟันเพื่อรักษาสุขภาพช่องปาก ในมุมมองทันตแพทย์การถอนฟันแสดงถึงกระบวนการที่เกี่ยวข้องกับการจัดการและรักษาฟันที่มีปัญหาซึ่งอาจเป็นส่วนหนึ่งของแผนรักษาโรคต่างๆ การถอนฟันอาจเกิดความปวดระหว่างกระบวนการและในช่วงเวลาการฟื้นตัว วัตถุประสงค์ของการถอนฟันอาจเป็นการรักษาสุขภาพช่องปากแก้ไขปัญหาทันตกรรมหรือจัดการกับฟันที่มีปัญหาเพื่อรักษาสุขภาพทันตกรรมโดยรวม\",\n",
        "        \"label\" : \"ความหมาย\"\n",
        "        },\n",
        "    \"context2\" : {\n",
        "        \"context\" : \"การถอนฟันมีประโยชน์มากมายทั้งในด้านการรักษาทันตกรรมและสุขภาพทั่วไป ประโยชน์ที่สำคัญที่สุดคือการแก้ไขปัญหาทันตกรรมเช่นการลดความปวดระหว่างฟันการป้องกันหรือรักษาโรคปริทันต์และการปรับปรุงสุขภาพช่องปากโดยรวม การถอนฟันยังช่วยลดโอกาสในการเกิดฟันผุและป้องกันการแพร่กระจายของเชื้อโรคในกรณีที่ฟันมีปัญหาร้ายแรง การถอนฟันมีความสำคัญในการป้องกันและรักษาภาวะทางระบบทั่วไปที่เกี่ยวข้องกับการรักษาทันตกรรมเช่นการลดความเสี่ยงของการติดเชื้อและการเกิดปัญหาที่เกี่ยวข้องกับฟัน การถอนฟันมีประโยชน์ทั้งในด้านทันตกรรมและสุขภาพทั่วไปของบุคคล การถอนฟันสามารถกำจัดอาการปวดจากสาเหตุต่างๆกำจัดเชื้อในช่องปากป้องกันการติดเชื้อในบริเวณใบหน้าช่วยให้ฟันแท้ขึ้นได้ตามปกติลดโอกาสเกิดฟันผุในฟันที่ขึ้นซ้อนเก\",\n",
        "        \"label\" : \"ประโยชน์\"\n",
        "        },\n",
        "     \"context3\" : {\n",
        "        \"context\" : \"ข้อเสียของการถอนฟันเช่นผู้ป่วยอาจมีความเจ็บปวดและเกิดความเครียดขณะรับการรักษา ในกรณีที่มีความเจ็บปวดมาก ทันตแพทย์จะให้ยาชาเฉพาะที่ระงับความเจ็บปวดเพิ่มเติม การถอนฟันมีข้อเสียและผลกระทบต่อสุขภาพทันตกรรมและทั่วไปของบุคคลได้มากมาย ข้อเสียของการถอนฟันอาจจะมีความเจ็บปวดและแผลที่เกิดขึ้นระหว่างกระบวนการและสูญเสีนฟันไปอาจทำให้เกิดความไม่มั่นใจหรือความลำบากในการเคี้ยวอาหารได้  การสูญเสียฟันยังสามารถทำให้การเคลื่อนไหวของฟันนี้ไม่สมดุลอาจทำให้เกิดปัญหาสุขภาพช่องปากและระบบทั่วไปเช่นการทำงานของกล้ามเนื้อในช่องปากเป็นต้น การถอนฟันอาจมีผลกระทบต่อการเคี้ยวอาหารความสวยงามการเรียงตัวของฟันการสบฟันเป็นต้น\",\n",
        "        \"label\" : \"ข้อเสีย\"\n",
        "        },\n",
        "     \"context4\" : {\n",
        "        \"context\" : \"การถอนฟันเป็นกระบวนการที่อาจมีความเสี่ยงต่อผู้ป่วยได้ หลังถอนฟันอาจมีอาการเจ็บปวดไม่สบายรวมไปถึงเกิดอาการบวมร่วมด้วย การถอนฟันยังเสี่ยงต่อการติดเชื้อในแผลหลังถอนฟันทำให้มีโอกาสเกิดความเสี่ยงแทรกซ้อนเช่นการติดเชื้อบวม การดูแลรักษาที่ถูกต้องหลังจากถอนฟันและปฏิบัติตามคำแนะนำของทันตแพทย์สามารถลดความเสี่ยงได้ การตรวจสอบสุขภาพทั่วไปก่อนการถอนฟันการปฏิบัติตามคำแนะนำของทันตแพทย์และการดูแลรักษาแผลให้ดีเป็นส่วนสำคัญในการลดความเสี่ยงที่เป็นไปได้ ความเสี่ยงที่มักพบคือการติดเชื้อบริเวณแผลถอนฟันหรือมีเลือดออกมาผิดปกติ อาการของการติดเชื้อหลังถอนฟันมักมีอากานปวดบวมแดงมีหนองเป็นไข้ หารมีอาการผิดปกติใดๆควรรีบไปพบทันตแพทย์ทันที หลังถอนฟันสามารถทานยาแก้ปวดเพื่อบรรเทาอาการปวดได้และควบคู่ไปกับการประคยเย็นบริเวณแก้มตรงที่มีแผล\",\n",
        "        \"label\" : \"ความเสี่ยง\"\n",
        "        },\n",
        "     \"context5\" : {\n",
        "        \"context\" : \"หลังถอนฟันบางคนอาจมีความเจ็บปวดบ้างในระหว่างหรือหลังจากกระบวนการ การดูแลแผลหลังถอนฟันสำคัญเพื่อป้องกันการติดเชื้อและส่งผลให้การฟื้นตัวดีขึ้น หลังถอนฟันแล้วสามารถแปรงฟันได้ปกติแต่ควรหลีกเลี่ยงการแปรงฟันในบริเวณแผลในช่วง24ชั่วโมงแรก การกินยาแก้ปวดที่แพทย์สั่งให้กินตามคำแนะนำจะช่วยควบคุมความปวดได้ควบคู่ไปกับการประคบเย็นบนแผลเป็นวิธีที่ดีเพื่อลดบวมและปวด หลังถอนฟันควรเว้นระยะเวลาในการกินอาหารแข็งหรือร้อนงดบ้วนปากแรงๆงบสูบบีหรี่และดื่มแอลกอฮอร์ การดูแลรักษาหลังถอนฟันมีคำแนะนำหลายอย่างเช่นไม่ควรดูดแผลและไม่บ้วนน้ำหรือน้ำลาย หลังถอนฟันควรการประคบเย็นในช่วงแรกและสามารถประคบร้อนได้หลังจากที่เลือดหยุดไหลและแผลเริ่มแห้ง หลังถอนฟันควรกัดผ่าก๊อซนาน1-2ชั่วโมงหรือจนกว่าเลือกจะหยุดไหล ควรรับประทานอาหารอ่อนๆในช่วงแรก สามารถทานยาแก้ปวดได้หากมีอาการปวดมาก โดยปกติยาชาจะออกฤทธิ์ประมาณ2-3ขึ้นอยู่กับปริมาณที่แพทย์เห็นสมควร ไหมละลายทั่วไปกะละลายหมดภายใน7-10วันและหากเป็นไหมปกติแพทย์จะนัดทำการตัดไหมได้หลังการถอนฟัน5-7วัน โดยปกติแล้วหลังถอนฟันเลือดจะไหลประมาณ1-2ชั่วโมงและมีเลือกซึมบ้างใน24ชั่วโมงแรกและจะค่อยๆหยุดลง\",\n",
        "        \"label\" : \"การดูแลรักษา\"\n",
        "        },\n",
        "     \"context6\" : {\n",
        "        \"context\" : \"หลังถอนฟันมีข้อควรระวังและข้อห้ามที่ควรคำนึงถึงหลายอย่างเช่นเลี่ยงการทานอาหารร้อนหรือเผ็ดควรทานอาหารอ่อนๆไม่ควรสูลลุหรี่หรือดื่มแอลกอฮอร์อีกทั้งยังควรระวังเวลาแปรงฟันหรือทำความสะอาดช่องปากอีกด้วย หลังถอนฟันควรหลีกเลี่ยงการกินอาหารแข็งร้อนหรือเผ็ดเพื่อป้องกันการกระทบต่อแผลที่เกิดขึ้น สามารถการแปรงฟันได้ปกติแต่คสรระวังบีิเวณที่เป็นแผลจากการถอนฟันเป็นพิเศษเพื่อป้องกันการเพิ่มเจ็บปวดและบวม. หลังถอนฟันไม่ควรกินอาหารร้อนหรือเผ็ดมากๆ ไม่ควรดื่มน้ำร้อนหลังถอนฟันควรตื่มเป้นน้ำอุณหภูมิห้อง  การกินอาหารที่ร้อนหรือเผ็ดอาจไปกระตุ้นแผลและการเพิ่มความเจ็บปวดได้ หลังทำหารถอนฟันควรกัดผ้าก๊อชไว้1-2ชั่วโมงหรือจนกว่าเลือกจะหยุด\",\n",
        "        \"label\" : \"ข้อควรระวัง\"\n",
        "        },\n",
        "     \"context7\" : {\n",
        "        \"context\" : \"ก่อนถอนฟันควรปรึกษากับทันตแพทย์เพื่อประเมินสภาพทางทันตกรรมของผู้ป่วยทำรายการตรวจสุขภาพทันตกรรมเพื่อตรวจสอบปัญหาทางทันตกรรมที่อาจเกี่ยวข้องและพักผ่อนให้เพียงพอ ก่อนถอนฟันควรสามารถรับประทานอาหารหรือเครื่องดื่มได้พอประมาณแต่ควรเว้นระยะเวลาให้เหมาะสม ก่อนถอนฟันควรพักผ่อนมาให้เรียบร้อยงดสูบบุหรี่และงดเครื่องดื่มที่มีแอลกอฮอร์ สำหรับผู้ที่มีโรงประจำตัวสามารถรับประทานยาประจำได้ตามปกติทั้งนี้ทั้งนั้นควรปรึกษาแพทย์ก่อน\",\n",
        "        \"label\" : \"การเตรียมตัว\"\n",
        "        },\n",
        "     \"context8\" : {\n",
        "        \"context\" : \"การถอนฟันเป็นกระบวนการที่ทำเมื่อฟันมีปัญหาหรือความเสียหายมากขึ้นและไม่สามารถรักษาได้โดยวิธีอื่นๆ ปัญหาที่อาจทำให้ต้องถอนฟันเช่นฟันผุที่มีความเสียหายมากฟันอยู่ในตำแหน่งที่ไม่ถูกต้องฟันหักหรือแตกจากการเกิดอุบัติเหตุ  อาการที่บ่งบอกว่าต้องถอนฟันอาจมีการปวดฟันรุนแรง การตรวจรักษาโดยทันตแพทย์จะช่วยประเมินว่าฟันมีปัญหาอะไรบ้างและวิธีการรักษาที่เหมาะสม ในบางกรณีการถอนฟันจำเป็นเพื่อรักษาปัญหาทันตกรรมอย่างถาวรและป้องกันการแพร่กระจายของปัญหา การถอนฟันมีความจำเป็นหรือไม่ขึ้นอยู่กับสถานการณ์และความรุนแรงของปัญหาทันตกรรมในแต่ละกรณี ไม่ควรถอนฟันเองเนื่องจากการถอนฟันเองโดยใช้มือหรือใช้เครื่องมืออื่นๆที่ไม่ใช่อุปกรณ์ทางทันตกรรมโดยเฉพาะจะส่งผลให้ฟันเสี่ยงติดเชื้อได้ง่าย\",\n",
        "        \"label\" : \"สาเหตุ\"\n",
        "        }\n",
        "    }"
      ]
    },
    {
      "cell_type": "code",
      "execution_count": null,
      "metadata": {
        "id": "j_PKBWyOOFGU"
      },
      "outputs": [],
      "source": [
        "def compare_labels(context_list, question_label):\n",
        "    for key, value in context_list.items():\n",
        "        context = value[\"context\"]\n",
        "        context_label = value[\"label\"]\n",
        "\n",
        "        # Compare labels\n",
        "        if context_label == question_label:\n",
        "            flag = True\n",
        "            matched_context = {\n",
        "                \"flag\": True,\n",
        "                \"key\": key,\n",
        "                \"context\": context,\n",
        "                \"label\": context_label\n",
        "            }\n",
        "            return flag, matched_context\n",
        "        else:\n",
        "            flag = False\n",
        "            matched_context = {\n",
        "                \"key\": \"\",\n",
        "                \"context\": \"\",\n",
        "                \"label\": \"\"\n",
        "            }\n",
        "    return flag, matched_context"
      ]
    },
    {
      "cell_type": "code",
      "execution_count": null,
      "metadata": {
        "id": "PmggWYBlT_OR"
      },
      "outputs": [],
      "source": [
        "nlp = pipeline('question-answering', model=model, tokenizer=tokenizer)\n",
        "def answer(question, context):\n",
        "  nlp_output = nlp({\n",
        "    'question': question,\n",
        "    'context': context\n",
        "  })\n",
        "  return nlp_output['answer'], nlp_output['score']"
      ]
    },
    {
      "cell_type": "code",
      "execution_count": null,
      "metadata": {
        "colab": {
          "base_uri": "https://localhost:8080/"
        },
        "id": "H2iP3RY9MTCR",
        "outputId": "7bae7a3a-ad80-47d7-8e2c-e3141ea351d9"
      },
      "outputs": [
        {
          "output_type": "stream",
          "name": "stdout",
          "text": [
            "Enter your question : ทอนฟันคืออะไร\n",
            "answer :  การถอนฟันสามารถกำจัดอาการปวดจากสาเหตุต่างๆกำจัดเชื้อในช่องปากป้องกันการติดเชื้อในบริเวณใบหน้าช่วยให้ฟันแท้ขึ้นได้ตามปกติลดโอกาสเกิดฟันผุในฟันที่ขึ้นซ้อนเก\n",
            "label : ประโยชน์\n",
            "score : 0.028763260692358017\n"
          ]
        }
      ],
      "source": [
        "#Test qa system with 1 question from user input\n",
        "input_question = input('Enter your question : ')\n",
        "q_label = predict_class_for_sampleRF(input_question)\n",
        "ismatched, context_question = compare_labels(context_list, q_label)\n",
        "key_context_result = context_question['label']\n",
        "if ismatched == True:\n",
        "  context_q = context_question['context']\n",
        "  answer_result, ans_score  = answer(input_question, context_q)\n",
        "  print(f\"answer : {answer_result}\")\n",
        "  print(f\"label : {key_context_result}\")\n",
        "  print(f\"score : {ans_score}\")\n",
        "else:\n",
        "  print(f\"input question does not match\")"
      ]
    },
    {
      "cell_type": "markdown",
      "metadata": {
        "id": "5xv4xpiCoRox"
      },
      "source": [
        "#mean f1 score for all question in qalist.csv"
      ]
    },
    {
      "cell_type": "code",
      "execution_count": null,
      "metadata": {
        "id": "x4E-WnFOoyJN",
        "colab": {
          "base_uri": "https://localhost:8080/"
        },
        "outputId": "7893878a-5c63-45e3-fc8c-35194a52d5ec"
      },
      "outputs": [
        {
          "output_type": "stream",
          "name": "stdout",
          "text": [
            "Execution time: 181.0592484474182 seconds\n",
            "Mean Score: 0.05207948724920095\n"
          ]
        }
      ],
      "source": [
        "import time\n",
        "\n",
        "start_time = time.time()\n",
        "\n",
        "ans_scores = []\n",
        "for question in questions:\n",
        "  input_question = question\n",
        "  q_label = predict_class_for_sampleRF(input_question)\n",
        "  ismatched, context_question = compare_labels(context_list, q_label)\n",
        "  key_context_result = context_question['label']\n",
        "  if ismatched == True:\n",
        "    context_q = context_question['context']\n",
        "    answer_result, ans_score  = answer(input_question, context_q)\n",
        "    ans_scores.append(ans_score)\n",
        "  else:\n",
        "    print(f\"input question does not match\")\n",
        "\n",
        "end_time = time.time()\n",
        "execution_time = end_time - start_time"
      ]
    },
    {
      "cell_type": "code",
      "source": [
        "print(f\"Execution time: {execution_time} seconds\")\n",
        "mean_score = np.mean(ans_scores)\n",
        "print(f\"Mean Score: {mean_score}\")"
      ],
      "metadata": {
        "id": "2B-qTvYRkK0L",
        "colab": {
          "base_uri": "https://localhost:8080/"
        },
        "outputId": "c178ce7f-1033-4d4c-be5b-274aa007877c"
      },
      "execution_count": null,
      "outputs": [
        {
          "output_type": "stream",
          "name": "stdout",
          "text": [
            "Execution time: 181.0592484474182 seconds\n",
            "Mean Score: 0.05207948724920095\n"
          ]
        }
      ]
    },
    {
      "cell_type": "markdown",
      "metadata": {
        "id": "0ASM4MAumfDX"
      },
      "source": [
        "# Test qa system without using question classifier"
      ]
    },
    {
      "cell_type": "code",
      "execution_count": null,
      "metadata": {
        "colab": {
          "base_uri": "https://localhost:8080/",
          "height": 452
        },
        "id": "84uO9qDbnVfW",
        "outputId": "76632910-1d40-450a-c97a-88432c7a9689"
      },
      "outputs": [
        {
          "output_type": "execute_result",
          "data": {
            "text/plain": [
              "'การถอนฟันคือกระบวนการทางทันตกรรมที่เกี่ยวข้องกับการนำฟันออกจากช่องปากของผู้ป่วยโดยใช้เครื่องมือทันตกรรมที่เหมาะสม การถอนฟันมีวัตถุประสงค์หลายประการเช่นเมื่อฟันที่คุณภาพด้อยและไม่สามารถฟื้นตัวได้เมื่อฟันเสียหายจากการบาดเจ็บหรือเมื่อมีปัญหาทันตกรรมอื่นๆที่ทำให้จำเป็นต้องถอนฟันเพื่อรักษาสุขภาพช่องปาก ในมุมมองทันตแพทย์การถอนฟันแสดงถึงกระบวนการที่เกี่ยวข้องกับการจัดการและรักษาฟันที่มีปัญหาซึ่งอาจเป็นส่วนหนึ่งของแผนรักษาโรคต่างๆ การถอนฟันอาจเกิดความปวดระหว่างกระบวนการและในช่วงเวลาการฟื้นตัว วัตถุประสงค์ของการถอนฟันอาจเป็นการรักษาสุขภาพช่องปากแก้ไขปัญหาทันตกรรมหรือจัดการกับฟันที่มีปัญหาเพื่อรักษาสุขภาพทันตกรรมโดยรวมการถอนฟันมีประโยชน์มากมายทั้งในด้านการรักษาทันตกรรมและสุขภาพทั่วไป ประโยชน์ที่สำคัญที่สุดคือการแก้ไขปัญหาทันตกรรมเช่นการลดความปวดระหว่างฟันการป้องกันหรือรักษาโรคปริทันต์และการปรับปรุงสุขภาพช่องปากโดยรวม การถอนฟันยังช่วยลดโอกาสในการเกิดฟันผุและป้องกันการแพร่กระจายของเชื้อโรคในกรณีที่ฟันมีปัญหาร้ายแรง การถอนฟันมีความสำคัญในการป้องกันและรักษาภาวะทางระบบทั่วไปที่เกี่ยวข้องกับการรักษาทันตกรรมเช่นการลดความเสี่ยงของการติดเชื้อและการเกิดปัญหาที่เกี่ยวข้องกับฟัน การถอนฟันมีประโยชน์ทั้งในด้านทันตกรรมและสุขภาพทั่วไปของบุคคล การถอนฟันสามารถกำจัดอาการปวดจากสาเหตุต่างๆกำจัดเชื้อในช่องปากป้องกันการติดเชื้อในบริเวณใบหน้าช่วยให้ฟันแท้ขึ้นได้ตามปกติลดโอกาสเกิดฟันผุในฟันที่ขึ้นซ้อนเกข้อเสียของการถอนฟันเช่นผู้ป่วยอาจมีความเจ็บปวดและเกิดความเครียดขณะรับการรักษา ในกรณีที่มีความเจ็บปวดมาก ทันตแพทย์จะให้ยาชาเฉพาะที่ระงับความเจ็บปวดเพิ่มเติม การถอนฟันมีข้อเสียและผลกระทบต่อสุขภาพทันตกรรมและทั่วไปของบุคคลได้มากมาย ข้อเสียของการถอนฟันอาจจะมีความเจ็บปวดและแผลที่เกิดขึ้นระหว่างกระบวนการและสูญเสีนฟันไปอาจทำให้เกิดความไม่มั่นใจหรือความลำบากในการเคี้ยวอาหารได้  การสูญเสียฟันยังสามารถทำให้การเคลื่อนไหวของฟันนี้ไม่สมดุลอาจทำให้เกิดปัญหาสุขภาพช่องปากและระบบทั่วไปเช่นการทำงานของกล้ามเนื้อในช่องปากเป็นต้น การถอนฟันอาจมีผลกระทบต่อการเคี้ยวอาหารความสวยงามการเรียงตัวของฟันการสบฟันเป็นต้นการถอนฟันเป็นกระบวนการที่อาจมีความเสี่ยงต่อผู้ป่วยได้ หลังถอนฟันอาจมีอาการเจ็บปวดไม่สบายรวมไปถึงเกิดอาการบวมร่วมด้วย การถอนฟันยังเสี่ยงต่อการติดเชื้อในแผลหลังถอนฟันทำให้มีโอกาสเกิดความเสี่ยงแทรกซ้อนเช่นการติดเชื้อบวม การดูแลรักษาที่ถูกต้องหลังจากถอนฟันและปฏิบัติตามคำแนะนำของทันตแพทย์สามารถลดความเสี่ยงได้ การตรวจสอบสุขภาพทั่วไปก่อนการถอนฟันการปฏิบัติตามคำแนะนำของทันตแพทย์และการดูแลรักษาแผลให้ดีเป็นส่วนสำคัญในการลดความเสี่ยงที่เป็นไปได้ ความเสี่ยงที่มักพบคือการติดเชื้อบริเวณแผลถอนฟันหรือมีเลือดออกมาผิดปกติ อาการของการติดเชื้อหลังถอนฟันมักมีอากานปวดบวมแดงมีหนองเป็นไข้ หารมีอาการผิดปกติใดๆควรรีบไปพบทันตแพทย์ทันที หลังถอนฟันสามารถทานยาแก้ปวดเพื่อบรรเทาอาการปวดได้และควบคู่ไปกับการประคยเย็นบริเวณแก้มตรงที่มีแผลหลังถอนฟันบางคนอาจมีความเจ็บปวดบ้างในระหว่างหรือหลังจากกระบวนการ การดูแลแผลหลังถอนฟันสำคัญเพื่อป้องกันการติดเชื้อและส่งผลให้การฟื้นตัวดีขึ้น หลังถอนฟันแล้วสามารถแปรงฟันได้ปกติแต่ควรหลีกเลี่ยงการแปรงฟันในบริเวณแผลในช่วง24ชั่วโมงแรก การกินยาแก้ปวดที่แพทย์สั่งให้กินตามคำแนะนำจะช่วยควบคุมความปวดได้ควบคู่ไปกับการประคบเย็นบนแผลเป็นวิธีที่ดีเพื่อลดบวมและปวด หลังถอนฟันควรเว้นระยะเวลาในการกินอาหารแข็งหรือร้อนงดบ้วนปากแรงๆงบสูบบีหรี่และดื่มแอลกอฮอร์ การดูแลรักษาหลังถอนฟันมีคำแนะนำหลายอย่างเช่นไม่ควรดูดแผลและไม่บ้วนน้ำหรือน้ำลาย หลังถอนฟันควรการประคบเย็นในช่วงแรกและสามารถประคบร้อนได้หลังจากที่เลือดหยุดไหลและแผลเริ่มแห้ง หลังถอนฟันควรกัดผ่าก๊อซนาน1-2ชั่วโมงหรือจนกว่าเลือกจะหยุดไหล ควรรับประทานอาหารอ่อนๆในช่วงแรก สามารถทานยาแก้ปวดได้หากมีอาการปวดมาก โดยปกติยาชาจะออกฤทธิ์ประมาณ2-3ขึ้นอยู่กับปริมาณที่แพทย์เห็นสมควร ไหมละลายทั่วไปกะละลายหมดภายใน7-10วันและหากเป็นไหมปกติแพทย์จะนัดทำการตัดไหมได้หลังการถอนฟัน5-7วัน โดยปกติแล้วหลังถอนฟันเลือดจะไหลประมาณ1-2ชั่วโมงและมีเลือกซึมบ้างใน24ชั่วโมงแรกและจะค่อยๆหยุดลงหลังถอนฟันมีข้อควรระวังและข้อห้ามที่ควรคำนึงถึงหลายอย่างเช่นเลี่ยงการทานอาหารร้อนหรือเผ็ดควรทานอาหารอ่อนๆไม่ควรสูลลุหรี่หรือดื่มแอลกอฮอร์อีกทั้งยังควรระวังเวลาแปรงฟันหรือทำความสะอาดช่องปากอีกด้วย หลังถอนฟันควรหลีกเลี่ยงการกินอาหารแข็งร้อนหรือเผ็ดเพื่อป้องกันการกระทบต่อแผลที่เกิดขึ้น สามารถการแปรงฟันได้ปกติแต่คสรระวังบีิเวณที่เป็นแผลจากการถอนฟันเป็นพิเศษเพื่อป้องกันการเพิ่มเจ็บปวดและบวม. หลังถอนฟันไม่ควรกินอาหารร้อนหรือเผ็ดมากๆ ไม่ควรดื่มน้ำร้อนหลังถอนฟันควรตื่มเป้นน้ำอุณหภูมิห้อง  การกินอาหารที่ร้อนหรือเผ็ดอาจไปกระตุ้นแผลและการเพิ่มความเจ็บปวดได้ หลังทำหารถอนฟันควรกัดผ้าก๊อชไว้1-2ชั่วโมงหรือจนกว่าเลือกจะหยุดก่อนถอนฟันควรปรึกษากับทันตแพทย์เพื่อประเมินสภาพทางทันตกรรมของผู้ป่วยทำรายการตรวจสุขภาพทันตกรรมเพื่อตรวจสอบปัญหาทางทันตกรรมที่อาจเกี่ยวข้องและพักผ่อนให้เพียงพอ ก่อนถอนฟันควรสามารถรับประทานอาหารหรือเครื่องดื่มได้พอประมาณแต่ควรเว้นระยะเวลาให้เหมาะสม ก่อนถอนฟันควรพักผ่อนมาให้เรียบร้อยงดสูบบุหรี่และงดเครื่องดื่มที่มีแอลกอฮอร์ สำหรับผู้ที่มีโรงประจำตัวสามารถรับประทานยาประจำได้ตามปกติทั้งนี้ทั้งนั้นควรปรึกษาแพทย์ก่อนการถอนฟันเป็นกระบวนการที่ทำเมื่อฟันมีปัญหาหรือความเสียหายมากขึ้นและไม่สามารถรักษาได้โดยวิธีอื่นๆ ปัญหาที่อาจทำให้ต้องถอนฟันเช่นฟันผุที่มีความเสียหายมากฟันอยู่ในตำแหน่งที่ไม่ถูกต้องฟันหักหรือแตกจากการเกิดอุบัติเหตุ  อาการที่บ่งบอกว่าต้องถอนฟันอาจมีการปวดฟันรุนแรง การตรวจรักษาโดยทันตแพทย์จะช่วยประเมินว่าฟันมีปัญหาอะไรบ้างและวิธีการรักษาที่เหมาะสม ในบางกรณีการถอนฟันจำเป็นเพื่อรักษาปัญหาทันตกรรมอย่างถาวรและป้องกันการแพร่กระจายของปัญหา การถอนฟันมีความจำเป็นหรือไม่ขึ้นอยู่กับสถานการณ์และความรุนแรงของปัญหาทันตกรรมในแต่ละกรณี ไม่ควรถอนฟันเองเนื่องจากการถอนฟันเองโดยใช้มือหรือใช้เครื่องมืออื่นๆที่ไม่ใช่อุปกรณ์ทางทันตกรรมโดยเฉพาะจะส่งผลให้ฟันเสี่ยงติดเชื้อได้ง่าย'"
            ],
            "application/vnd.google.colaboratory.intrinsic+json": {
              "type": "string"
            }
          },
          "metadata": {},
          "execution_count": 23
        }
      ],
      "source": [
        "all_context = \"\"\n",
        "for key, value in context_list.items():\n",
        "    context = value[\"context\"]\n",
        "\n",
        "    all_context = all_context + context\n",
        "\n",
        "all_context"
      ]
    },
    {
      "cell_type": "markdown",
      "metadata": {
        "id": "td4ft5wwshhP"
      },
      "source": [
        "# mean f1 score for all question (no classfier) qalist.csv"
      ]
    },
    {
      "cell_type": "code",
      "execution_count": null,
      "metadata": {
        "id": "wxdjn-gKszqv"
      },
      "outputs": [],
      "source": [
        "import time\n",
        "\n",
        "start_time_NOClassifier = time.time()\n",
        "\n",
        "ans_scores2 = []\n",
        "for question in questions:\n",
        "  input_question = question\n",
        "  answer_result, ans_score  = answer(input_question, all_context)\n",
        "  ans_scores2.append(ans_score)\n",
        "\n",
        "end_time_NOClassifier  = time.time()\n",
        "execution_time_NOClassifier  = end_time - start_time"
      ]
    },
    {
      "cell_type": "code",
      "source": [
        "print(f\"Execution time: {execution_time_NOClassifier} seconds\")\n",
        "mean_score2 = np.mean(ans_scores2)\n",
        "print(f\"Mean Score: {mean_score2}\")"
      ],
      "metadata": {
        "id": "QYmIsYsrkEc-"
      },
      "execution_count": null,
      "outputs": []
    }
  ],
  "metadata": {
    "accelerator": "GPU",
    "colab": {
      "provenance": []
    },
    "kernelspec": {
      "display_name": "Python 3",
      "name": "python3"
    },
    "language_info": {
      "name": "python"
    },
    "widgets": {
      "application/vnd.jupyter.widget-state+json": {
        "3570372219474e9b8689d5ddae9fbb40": {
          "model_module": "@jupyter-widgets/controls",
          "model_name": "HBoxModel",
          "model_module_version": "1.5.0",
          "state": {
            "_dom_classes": [],
            "_model_module": "@jupyter-widgets/controls",
            "_model_module_version": "1.5.0",
            "_model_name": "HBoxModel",
            "_view_count": null,
            "_view_module": "@jupyter-widgets/controls",
            "_view_module_version": "1.5.0",
            "_view_name": "HBoxView",
            "box_style": "",
            "children": [
              "IPY_MODEL_c451f8f78dd947729e87a44906cebc00",
              "IPY_MODEL_12fb5c9159b144f4906166ebe327c2c7",
              "IPY_MODEL_428981f599d146db826651efde17dc09"
            ],
            "layout": "IPY_MODEL_2e9e1e2d267249d7a1807abe6ba1c36c"
          }
        },
        "c451f8f78dd947729e87a44906cebc00": {
          "model_module": "@jupyter-widgets/controls",
          "model_name": "HTMLModel",
          "model_module_version": "1.5.0",
          "state": {
            "_dom_classes": [],
            "_model_module": "@jupyter-widgets/controls",
            "_model_module_version": "1.5.0",
            "_model_name": "HTMLModel",
            "_view_count": null,
            "_view_module": "@jupyter-widgets/controls",
            "_view_module_version": "1.5.0",
            "_view_name": "HTMLView",
            "description": "",
            "description_tooltip": null,
            "layout": "IPY_MODEL_6035ef46ee0f4df3800461542bc8fa4a",
            "placeholder": "​",
            "style": "IPY_MODEL_8d6b54ba403c430c857960ea44b9972a",
            "value": "tokenizer_config.json: 100%"
          }
        },
        "12fb5c9159b144f4906166ebe327c2c7": {
          "model_module": "@jupyter-widgets/controls",
          "model_name": "FloatProgressModel",
          "model_module_version": "1.5.0",
          "state": {
            "_dom_classes": [],
            "_model_module": "@jupyter-widgets/controls",
            "_model_module_version": "1.5.0",
            "_model_name": "FloatProgressModel",
            "_view_count": null,
            "_view_module": "@jupyter-widgets/controls",
            "_view_module_version": "1.5.0",
            "_view_name": "ProgressView",
            "bar_style": "success",
            "description": "",
            "description_tooltip": null,
            "layout": "IPY_MODEL_01deb85a87d04de29cb3f48a2454753e",
            "max": 453,
            "min": 0,
            "orientation": "horizontal",
            "style": "IPY_MODEL_96deb019eb8b4318a838a6401a85bb55",
            "value": 453
          }
        },
        "428981f599d146db826651efde17dc09": {
          "model_module": "@jupyter-widgets/controls",
          "model_name": "HTMLModel",
          "model_module_version": "1.5.0",
          "state": {
            "_dom_classes": [],
            "_model_module": "@jupyter-widgets/controls",
            "_model_module_version": "1.5.0",
            "_model_name": "HTMLModel",
            "_view_count": null,
            "_view_module": "@jupyter-widgets/controls",
            "_view_module_version": "1.5.0",
            "_view_name": "HTMLView",
            "description": "",
            "description_tooltip": null,
            "layout": "IPY_MODEL_f50c1fec64a947bf942f4c9979ae24e2",
            "placeholder": "​",
            "style": "IPY_MODEL_25fce9d226df42a7a2fdac2f7553f841",
            "value": " 453/453 [00:00&lt;00:00, 9.04kB/s]"
          }
        },
        "2e9e1e2d267249d7a1807abe6ba1c36c": {
          "model_module": "@jupyter-widgets/base",
          "model_name": "LayoutModel",
          "model_module_version": "1.2.0",
          "state": {
            "_model_module": "@jupyter-widgets/base",
            "_model_module_version": "1.2.0",
            "_model_name": "LayoutModel",
            "_view_count": null,
            "_view_module": "@jupyter-widgets/base",
            "_view_module_version": "1.2.0",
            "_view_name": "LayoutView",
            "align_content": null,
            "align_items": null,
            "align_self": null,
            "border": null,
            "bottom": null,
            "display": null,
            "flex": null,
            "flex_flow": null,
            "grid_area": null,
            "grid_auto_columns": null,
            "grid_auto_flow": null,
            "grid_auto_rows": null,
            "grid_column": null,
            "grid_gap": null,
            "grid_row": null,
            "grid_template_areas": null,
            "grid_template_columns": null,
            "grid_template_rows": null,
            "height": null,
            "justify_content": null,
            "justify_items": null,
            "left": null,
            "margin": null,
            "max_height": null,
            "max_width": null,
            "min_height": null,
            "min_width": null,
            "object_fit": null,
            "object_position": null,
            "order": null,
            "overflow": null,
            "overflow_x": null,
            "overflow_y": null,
            "padding": null,
            "right": null,
            "top": null,
            "visibility": null,
            "width": null
          }
        },
        "6035ef46ee0f4df3800461542bc8fa4a": {
          "model_module": "@jupyter-widgets/base",
          "model_name": "LayoutModel",
          "model_module_version": "1.2.0",
          "state": {
            "_model_module": "@jupyter-widgets/base",
            "_model_module_version": "1.2.0",
            "_model_name": "LayoutModel",
            "_view_count": null,
            "_view_module": "@jupyter-widgets/base",
            "_view_module_version": "1.2.0",
            "_view_name": "LayoutView",
            "align_content": null,
            "align_items": null,
            "align_self": null,
            "border": null,
            "bottom": null,
            "display": null,
            "flex": null,
            "flex_flow": null,
            "grid_area": null,
            "grid_auto_columns": null,
            "grid_auto_flow": null,
            "grid_auto_rows": null,
            "grid_column": null,
            "grid_gap": null,
            "grid_row": null,
            "grid_template_areas": null,
            "grid_template_columns": null,
            "grid_template_rows": null,
            "height": null,
            "justify_content": null,
            "justify_items": null,
            "left": null,
            "margin": null,
            "max_height": null,
            "max_width": null,
            "min_height": null,
            "min_width": null,
            "object_fit": null,
            "object_position": null,
            "order": null,
            "overflow": null,
            "overflow_x": null,
            "overflow_y": null,
            "padding": null,
            "right": null,
            "top": null,
            "visibility": null,
            "width": null
          }
        },
        "8d6b54ba403c430c857960ea44b9972a": {
          "model_module": "@jupyter-widgets/controls",
          "model_name": "DescriptionStyleModel",
          "model_module_version": "1.5.0",
          "state": {
            "_model_module": "@jupyter-widgets/controls",
            "_model_module_version": "1.5.0",
            "_model_name": "DescriptionStyleModel",
            "_view_count": null,
            "_view_module": "@jupyter-widgets/base",
            "_view_module_version": "1.2.0",
            "_view_name": "StyleView",
            "description_width": ""
          }
        },
        "01deb85a87d04de29cb3f48a2454753e": {
          "model_module": "@jupyter-widgets/base",
          "model_name": "LayoutModel",
          "model_module_version": "1.2.0",
          "state": {
            "_model_module": "@jupyter-widgets/base",
            "_model_module_version": "1.2.0",
            "_model_name": "LayoutModel",
            "_view_count": null,
            "_view_module": "@jupyter-widgets/base",
            "_view_module_version": "1.2.0",
            "_view_name": "LayoutView",
            "align_content": null,
            "align_items": null,
            "align_self": null,
            "border": null,
            "bottom": null,
            "display": null,
            "flex": null,
            "flex_flow": null,
            "grid_area": null,
            "grid_auto_columns": null,
            "grid_auto_flow": null,
            "grid_auto_rows": null,
            "grid_column": null,
            "grid_gap": null,
            "grid_row": null,
            "grid_template_areas": null,
            "grid_template_columns": null,
            "grid_template_rows": null,
            "height": null,
            "justify_content": null,
            "justify_items": null,
            "left": null,
            "margin": null,
            "max_height": null,
            "max_width": null,
            "min_height": null,
            "min_width": null,
            "object_fit": null,
            "object_position": null,
            "order": null,
            "overflow": null,
            "overflow_x": null,
            "overflow_y": null,
            "padding": null,
            "right": null,
            "top": null,
            "visibility": null,
            "width": null
          }
        },
        "96deb019eb8b4318a838a6401a85bb55": {
          "model_module": "@jupyter-widgets/controls",
          "model_name": "ProgressStyleModel",
          "model_module_version": "1.5.0",
          "state": {
            "_model_module": "@jupyter-widgets/controls",
            "_model_module_version": "1.5.0",
            "_model_name": "ProgressStyleModel",
            "_view_count": null,
            "_view_module": "@jupyter-widgets/base",
            "_view_module_version": "1.2.0",
            "_view_name": "StyleView",
            "bar_color": null,
            "description_width": ""
          }
        },
        "f50c1fec64a947bf942f4c9979ae24e2": {
          "model_module": "@jupyter-widgets/base",
          "model_name": "LayoutModel",
          "model_module_version": "1.2.0",
          "state": {
            "_model_module": "@jupyter-widgets/base",
            "_model_module_version": "1.2.0",
            "_model_name": "LayoutModel",
            "_view_count": null,
            "_view_module": "@jupyter-widgets/base",
            "_view_module_version": "1.2.0",
            "_view_name": "LayoutView",
            "align_content": null,
            "align_items": null,
            "align_self": null,
            "border": null,
            "bottom": null,
            "display": null,
            "flex": null,
            "flex_flow": null,
            "grid_area": null,
            "grid_auto_columns": null,
            "grid_auto_flow": null,
            "grid_auto_rows": null,
            "grid_column": null,
            "grid_gap": null,
            "grid_row": null,
            "grid_template_areas": null,
            "grid_template_columns": null,
            "grid_template_rows": null,
            "height": null,
            "justify_content": null,
            "justify_items": null,
            "left": null,
            "margin": null,
            "max_height": null,
            "max_width": null,
            "min_height": null,
            "min_width": null,
            "object_fit": null,
            "object_position": null,
            "order": null,
            "overflow": null,
            "overflow_x": null,
            "overflow_y": null,
            "padding": null,
            "right": null,
            "top": null,
            "visibility": null,
            "width": null
          }
        },
        "25fce9d226df42a7a2fdac2f7553f841": {
          "model_module": "@jupyter-widgets/controls",
          "model_name": "DescriptionStyleModel",
          "model_module_version": "1.5.0",
          "state": {
            "_model_module": "@jupyter-widgets/controls",
            "_model_module_version": "1.5.0",
            "_model_name": "DescriptionStyleModel",
            "_view_count": null,
            "_view_module": "@jupyter-widgets/base",
            "_view_module_version": "1.2.0",
            "_view_name": "StyleView",
            "description_width": ""
          }
        },
        "5e8bb16bc44540eabe8b43e2cc4faaae": {
          "model_module": "@jupyter-widgets/controls",
          "model_name": "HBoxModel",
          "model_module_version": "1.5.0",
          "state": {
            "_dom_classes": [],
            "_model_module": "@jupyter-widgets/controls",
            "_model_module_version": "1.5.0",
            "_model_name": "HBoxModel",
            "_view_count": null,
            "_view_module": "@jupyter-widgets/controls",
            "_view_module_version": "1.5.0",
            "_view_name": "HBoxView",
            "box_style": "",
            "children": [
              "IPY_MODEL_757ccc602416445c9072238a67e3eea4",
              "IPY_MODEL_f98e4528cb3341f39901f18d0835aca3",
              "IPY_MODEL_a1ac953d11af4b18bb616587b805cd06"
            ],
            "layout": "IPY_MODEL_b497d089a3d94589a519e43f00516137"
          }
        },
        "757ccc602416445c9072238a67e3eea4": {
          "model_module": "@jupyter-widgets/controls",
          "model_name": "HTMLModel",
          "model_module_version": "1.5.0",
          "state": {
            "_dom_classes": [],
            "_model_module": "@jupyter-widgets/controls",
            "_model_module_version": "1.5.0",
            "_model_name": "HTMLModel",
            "_view_count": null,
            "_view_module": "@jupyter-widgets/controls",
            "_view_module_version": "1.5.0",
            "_view_name": "HTMLView",
            "description": "",
            "description_tooltip": null,
            "layout": "IPY_MODEL_4c6ab2228bf84a3c952ad6495a4a0d6b",
            "placeholder": "​",
            "style": "IPY_MODEL_dad4c4166ccb40fe90cf438f5e06bc87",
            "value": "tokenizer.json: 100%"
          }
        },
        "f98e4528cb3341f39901f18d0835aca3": {
          "model_module": "@jupyter-widgets/controls",
          "model_name": "FloatProgressModel",
          "model_module_version": "1.5.0",
          "state": {
            "_dom_classes": [],
            "_model_module": "@jupyter-widgets/controls",
            "_model_module_version": "1.5.0",
            "_model_name": "FloatProgressModel",
            "_view_count": null,
            "_view_module": "@jupyter-widgets/controls",
            "_view_module_version": "1.5.0",
            "_view_name": "ProgressView",
            "bar_style": "success",
            "description": "",
            "description_tooltip": null,
            "layout": "IPY_MODEL_ef2225a8afee4b82be5b23ac775e24a8",
            "max": 16316053,
            "min": 0,
            "orientation": "horizontal",
            "style": "IPY_MODEL_3a5a483c9bc4477b8c8ffdd9c8fec991",
            "value": 16316053
          }
        },
        "a1ac953d11af4b18bb616587b805cd06": {
          "model_module": "@jupyter-widgets/controls",
          "model_name": "HTMLModel",
          "model_module_version": "1.5.0",
          "state": {
            "_dom_classes": [],
            "_model_module": "@jupyter-widgets/controls",
            "_model_module_version": "1.5.0",
            "_model_name": "HTMLModel",
            "_view_count": null,
            "_view_module": "@jupyter-widgets/controls",
            "_view_module_version": "1.5.0",
            "_view_name": "HTMLView",
            "description": "",
            "description_tooltip": null,
            "layout": "IPY_MODEL_91e5db8abfa04642b2f601c6c25ab443",
            "placeholder": "​",
            "style": "IPY_MODEL_b0c5b40d8a51420c9eed8451d49d8d3e",
            "value": " 16.3M/16.3M [00:00&lt;00:00, 29.3MB/s]"
          }
        },
        "b497d089a3d94589a519e43f00516137": {
          "model_module": "@jupyter-widgets/base",
          "model_name": "LayoutModel",
          "model_module_version": "1.2.0",
          "state": {
            "_model_module": "@jupyter-widgets/base",
            "_model_module_version": "1.2.0",
            "_model_name": "LayoutModel",
            "_view_count": null,
            "_view_module": "@jupyter-widgets/base",
            "_view_module_version": "1.2.0",
            "_view_name": "LayoutView",
            "align_content": null,
            "align_items": null,
            "align_self": null,
            "border": null,
            "bottom": null,
            "display": null,
            "flex": null,
            "flex_flow": null,
            "grid_area": null,
            "grid_auto_columns": null,
            "grid_auto_flow": null,
            "grid_auto_rows": null,
            "grid_column": null,
            "grid_gap": null,
            "grid_row": null,
            "grid_template_areas": null,
            "grid_template_columns": null,
            "grid_template_rows": null,
            "height": null,
            "justify_content": null,
            "justify_items": null,
            "left": null,
            "margin": null,
            "max_height": null,
            "max_width": null,
            "min_height": null,
            "min_width": null,
            "object_fit": null,
            "object_position": null,
            "order": null,
            "overflow": null,
            "overflow_x": null,
            "overflow_y": null,
            "padding": null,
            "right": null,
            "top": null,
            "visibility": null,
            "width": null
          }
        },
        "4c6ab2228bf84a3c952ad6495a4a0d6b": {
          "model_module": "@jupyter-widgets/base",
          "model_name": "LayoutModel",
          "model_module_version": "1.2.0",
          "state": {
            "_model_module": "@jupyter-widgets/base",
            "_model_module_version": "1.2.0",
            "_model_name": "LayoutModel",
            "_view_count": null,
            "_view_module": "@jupyter-widgets/base",
            "_view_module_version": "1.2.0",
            "_view_name": "LayoutView",
            "align_content": null,
            "align_items": null,
            "align_self": null,
            "border": null,
            "bottom": null,
            "display": null,
            "flex": null,
            "flex_flow": null,
            "grid_area": null,
            "grid_auto_columns": null,
            "grid_auto_flow": null,
            "grid_auto_rows": null,
            "grid_column": null,
            "grid_gap": null,
            "grid_row": null,
            "grid_template_areas": null,
            "grid_template_columns": null,
            "grid_template_rows": null,
            "height": null,
            "justify_content": null,
            "justify_items": null,
            "left": null,
            "margin": null,
            "max_height": null,
            "max_width": null,
            "min_height": null,
            "min_width": null,
            "object_fit": null,
            "object_position": null,
            "order": null,
            "overflow": null,
            "overflow_x": null,
            "overflow_y": null,
            "padding": null,
            "right": null,
            "top": null,
            "visibility": null,
            "width": null
          }
        },
        "dad4c4166ccb40fe90cf438f5e06bc87": {
          "model_module": "@jupyter-widgets/controls",
          "model_name": "DescriptionStyleModel",
          "model_module_version": "1.5.0",
          "state": {
            "_model_module": "@jupyter-widgets/controls",
            "_model_module_version": "1.5.0",
            "_model_name": "DescriptionStyleModel",
            "_view_count": null,
            "_view_module": "@jupyter-widgets/base",
            "_view_module_version": "1.2.0",
            "_view_name": "StyleView",
            "description_width": ""
          }
        },
        "ef2225a8afee4b82be5b23ac775e24a8": {
          "model_module": "@jupyter-widgets/base",
          "model_name": "LayoutModel",
          "model_module_version": "1.2.0",
          "state": {
            "_model_module": "@jupyter-widgets/base",
            "_model_module_version": "1.2.0",
            "_model_name": "LayoutModel",
            "_view_count": null,
            "_view_module": "@jupyter-widgets/base",
            "_view_module_version": "1.2.0",
            "_view_name": "LayoutView",
            "align_content": null,
            "align_items": null,
            "align_self": null,
            "border": null,
            "bottom": null,
            "display": null,
            "flex": null,
            "flex_flow": null,
            "grid_area": null,
            "grid_auto_columns": null,
            "grid_auto_flow": null,
            "grid_auto_rows": null,
            "grid_column": null,
            "grid_gap": null,
            "grid_row": null,
            "grid_template_areas": null,
            "grid_template_columns": null,
            "grid_template_rows": null,
            "height": null,
            "justify_content": null,
            "justify_items": null,
            "left": null,
            "margin": null,
            "max_height": null,
            "max_width": null,
            "min_height": null,
            "min_width": null,
            "object_fit": null,
            "object_position": null,
            "order": null,
            "overflow": null,
            "overflow_x": null,
            "overflow_y": null,
            "padding": null,
            "right": null,
            "top": null,
            "visibility": null,
            "width": null
          }
        },
        "3a5a483c9bc4477b8c8ffdd9c8fec991": {
          "model_module": "@jupyter-widgets/controls",
          "model_name": "ProgressStyleModel",
          "model_module_version": "1.5.0",
          "state": {
            "_model_module": "@jupyter-widgets/controls",
            "_model_module_version": "1.5.0",
            "_model_name": "ProgressStyleModel",
            "_view_count": null,
            "_view_module": "@jupyter-widgets/base",
            "_view_module_version": "1.2.0",
            "_view_name": "StyleView",
            "bar_color": null,
            "description_width": ""
          }
        },
        "91e5db8abfa04642b2f601c6c25ab443": {
          "model_module": "@jupyter-widgets/base",
          "model_name": "LayoutModel",
          "model_module_version": "1.2.0",
          "state": {
            "_model_module": "@jupyter-widgets/base",
            "_model_module_version": "1.2.0",
            "_model_name": "LayoutModel",
            "_view_count": null,
            "_view_module": "@jupyter-widgets/base",
            "_view_module_version": "1.2.0",
            "_view_name": "LayoutView",
            "align_content": null,
            "align_items": null,
            "align_self": null,
            "border": null,
            "bottom": null,
            "display": null,
            "flex": null,
            "flex_flow": null,
            "grid_area": null,
            "grid_auto_columns": null,
            "grid_auto_flow": null,
            "grid_auto_rows": null,
            "grid_column": null,
            "grid_gap": null,
            "grid_row": null,
            "grid_template_areas": null,
            "grid_template_columns": null,
            "grid_template_rows": null,
            "height": null,
            "justify_content": null,
            "justify_items": null,
            "left": null,
            "margin": null,
            "max_height": null,
            "max_width": null,
            "min_height": null,
            "min_width": null,
            "object_fit": null,
            "object_position": null,
            "order": null,
            "overflow": null,
            "overflow_x": null,
            "overflow_y": null,
            "padding": null,
            "right": null,
            "top": null,
            "visibility": null,
            "width": null
          }
        },
        "b0c5b40d8a51420c9eed8451d49d8d3e": {
          "model_module": "@jupyter-widgets/controls",
          "model_name": "DescriptionStyleModel",
          "model_module_version": "1.5.0",
          "state": {
            "_model_module": "@jupyter-widgets/controls",
            "_model_module_version": "1.5.0",
            "_model_name": "DescriptionStyleModel",
            "_view_count": null,
            "_view_module": "@jupyter-widgets/base",
            "_view_module_version": "1.2.0",
            "_view_name": "StyleView",
            "description_width": ""
          }
        },
        "c2b996a52f044a24a5fbe675df3d6299": {
          "model_module": "@jupyter-widgets/controls",
          "model_name": "HBoxModel",
          "model_module_version": "1.5.0",
          "state": {
            "_dom_classes": [],
            "_model_module": "@jupyter-widgets/controls",
            "_model_module_version": "1.5.0",
            "_model_name": "HBoxModel",
            "_view_count": null,
            "_view_module": "@jupyter-widgets/controls",
            "_view_module_version": "1.5.0",
            "_view_name": "HBoxView",
            "box_style": "",
            "children": [
              "IPY_MODEL_1520be9231db404f9c080ec10fe469ec",
              "IPY_MODEL_e6214e5f8c194995a4a218978ed309dc",
              "IPY_MODEL_8bd61039865445fb9b25b743c05f0fa7"
            ],
            "layout": "IPY_MODEL_dd9d9e8b77564946bfccd48f6d4a860b"
          }
        },
        "1520be9231db404f9c080ec10fe469ec": {
          "model_module": "@jupyter-widgets/controls",
          "model_name": "HTMLModel",
          "model_module_version": "1.5.0",
          "state": {
            "_dom_classes": [],
            "_model_module": "@jupyter-widgets/controls",
            "_model_module_version": "1.5.0",
            "_model_name": "HTMLModel",
            "_view_count": null,
            "_view_module": "@jupyter-widgets/controls",
            "_view_module_version": "1.5.0",
            "_view_name": "HTMLView",
            "description": "",
            "description_tooltip": null,
            "layout": "IPY_MODEL_095b7384ab4e4a1ab5e563d5d3359a9f",
            "placeholder": "​",
            "style": "IPY_MODEL_a4d677fb10214a2a8700154e7bb897ea",
            "value": "added_tokens.json: 100%"
          }
        },
        "e6214e5f8c194995a4a218978ed309dc": {
          "model_module": "@jupyter-widgets/controls",
          "model_name": "FloatProgressModel",
          "model_module_version": "1.5.0",
          "state": {
            "_dom_classes": [],
            "_model_module": "@jupyter-widgets/controls",
            "_model_module_version": "1.5.0",
            "_model_name": "FloatProgressModel",
            "_view_count": null,
            "_view_module": "@jupyter-widgets/controls",
            "_view_module_version": "1.5.0",
            "_view_name": "ProgressView",
            "bar_style": "success",
            "description": "",
            "description_tooltip": null,
            "layout": "IPY_MODEL_57907a31635140edbcf9cd7c9d030da9",
            "max": 23,
            "min": 0,
            "orientation": "horizontal",
            "style": "IPY_MODEL_f967c975e57d4d6a94e606a4bd50f310",
            "value": 23
          }
        },
        "8bd61039865445fb9b25b743c05f0fa7": {
          "model_module": "@jupyter-widgets/controls",
          "model_name": "HTMLModel",
          "model_module_version": "1.5.0",
          "state": {
            "_dom_classes": [],
            "_model_module": "@jupyter-widgets/controls",
            "_model_module_version": "1.5.0",
            "_model_name": "HTMLModel",
            "_view_count": null,
            "_view_module": "@jupyter-widgets/controls",
            "_view_module_version": "1.5.0",
            "_view_name": "HTMLView",
            "description": "",
            "description_tooltip": null,
            "layout": "IPY_MODEL_5f5006289e7a4bbdabb16782b8b3826c",
            "placeholder": "​",
            "style": "IPY_MODEL_978bf861123b46128a11288af7f00238",
            "value": " 23.0/23.0 [00:00&lt;00:00, 388B/s]"
          }
        },
        "dd9d9e8b77564946bfccd48f6d4a860b": {
          "model_module": "@jupyter-widgets/base",
          "model_name": "LayoutModel",
          "model_module_version": "1.2.0",
          "state": {
            "_model_module": "@jupyter-widgets/base",
            "_model_module_version": "1.2.0",
            "_model_name": "LayoutModel",
            "_view_count": null,
            "_view_module": "@jupyter-widgets/base",
            "_view_module_version": "1.2.0",
            "_view_name": "LayoutView",
            "align_content": null,
            "align_items": null,
            "align_self": null,
            "border": null,
            "bottom": null,
            "display": null,
            "flex": null,
            "flex_flow": null,
            "grid_area": null,
            "grid_auto_columns": null,
            "grid_auto_flow": null,
            "grid_auto_rows": null,
            "grid_column": null,
            "grid_gap": null,
            "grid_row": null,
            "grid_template_areas": null,
            "grid_template_columns": null,
            "grid_template_rows": null,
            "height": null,
            "justify_content": null,
            "justify_items": null,
            "left": null,
            "margin": null,
            "max_height": null,
            "max_width": null,
            "min_height": null,
            "min_width": null,
            "object_fit": null,
            "object_position": null,
            "order": null,
            "overflow": null,
            "overflow_x": null,
            "overflow_y": null,
            "padding": null,
            "right": null,
            "top": null,
            "visibility": null,
            "width": null
          }
        },
        "095b7384ab4e4a1ab5e563d5d3359a9f": {
          "model_module": "@jupyter-widgets/base",
          "model_name": "LayoutModel",
          "model_module_version": "1.2.0",
          "state": {
            "_model_module": "@jupyter-widgets/base",
            "_model_module_version": "1.2.0",
            "_model_name": "LayoutModel",
            "_view_count": null,
            "_view_module": "@jupyter-widgets/base",
            "_view_module_version": "1.2.0",
            "_view_name": "LayoutView",
            "align_content": null,
            "align_items": null,
            "align_self": null,
            "border": null,
            "bottom": null,
            "display": null,
            "flex": null,
            "flex_flow": null,
            "grid_area": null,
            "grid_auto_columns": null,
            "grid_auto_flow": null,
            "grid_auto_rows": null,
            "grid_column": null,
            "grid_gap": null,
            "grid_row": null,
            "grid_template_areas": null,
            "grid_template_columns": null,
            "grid_template_rows": null,
            "height": null,
            "justify_content": null,
            "justify_items": null,
            "left": null,
            "margin": null,
            "max_height": null,
            "max_width": null,
            "min_height": null,
            "min_width": null,
            "object_fit": null,
            "object_position": null,
            "order": null,
            "overflow": null,
            "overflow_x": null,
            "overflow_y": null,
            "padding": null,
            "right": null,
            "top": null,
            "visibility": null,
            "width": null
          }
        },
        "a4d677fb10214a2a8700154e7bb897ea": {
          "model_module": "@jupyter-widgets/controls",
          "model_name": "DescriptionStyleModel",
          "model_module_version": "1.5.0",
          "state": {
            "_model_module": "@jupyter-widgets/controls",
            "_model_module_version": "1.5.0",
            "_model_name": "DescriptionStyleModel",
            "_view_count": null,
            "_view_module": "@jupyter-widgets/base",
            "_view_module_version": "1.2.0",
            "_view_name": "StyleView",
            "description_width": ""
          }
        },
        "57907a31635140edbcf9cd7c9d030da9": {
          "model_module": "@jupyter-widgets/base",
          "model_name": "LayoutModel",
          "model_module_version": "1.2.0",
          "state": {
            "_model_module": "@jupyter-widgets/base",
            "_model_module_version": "1.2.0",
            "_model_name": "LayoutModel",
            "_view_count": null,
            "_view_module": "@jupyter-widgets/base",
            "_view_module_version": "1.2.0",
            "_view_name": "LayoutView",
            "align_content": null,
            "align_items": null,
            "align_self": null,
            "border": null,
            "bottom": null,
            "display": null,
            "flex": null,
            "flex_flow": null,
            "grid_area": null,
            "grid_auto_columns": null,
            "grid_auto_flow": null,
            "grid_auto_rows": null,
            "grid_column": null,
            "grid_gap": null,
            "grid_row": null,
            "grid_template_areas": null,
            "grid_template_columns": null,
            "grid_template_rows": null,
            "height": null,
            "justify_content": null,
            "justify_items": null,
            "left": null,
            "margin": null,
            "max_height": null,
            "max_width": null,
            "min_height": null,
            "min_width": null,
            "object_fit": null,
            "object_position": null,
            "order": null,
            "overflow": null,
            "overflow_x": null,
            "overflow_y": null,
            "padding": null,
            "right": null,
            "top": null,
            "visibility": null,
            "width": null
          }
        },
        "f967c975e57d4d6a94e606a4bd50f310": {
          "model_module": "@jupyter-widgets/controls",
          "model_name": "ProgressStyleModel",
          "model_module_version": "1.5.0",
          "state": {
            "_model_module": "@jupyter-widgets/controls",
            "_model_module_version": "1.5.0",
            "_model_name": "ProgressStyleModel",
            "_view_count": null,
            "_view_module": "@jupyter-widgets/base",
            "_view_module_version": "1.2.0",
            "_view_name": "StyleView",
            "bar_color": null,
            "description_width": ""
          }
        },
        "5f5006289e7a4bbdabb16782b8b3826c": {
          "model_module": "@jupyter-widgets/base",
          "model_name": "LayoutModel",
          "model_module_version": "1.2.0",
          "state": {
            "_model_module": "@jupyter-widgets/base",
            "_model_module_version": "1.2.0",
            "_model_name": "LayoutModel",
            "_view_count": null,
            "_view_module": "@jupyter-widgets/base",
            "_view_module_version": "1.2.0",
            "_view_name": "LayoutView",
            "align_content": null,
            "align_items": null,
            "align_self": null,
            "border": null,
            "bottom": null,
            "display": null,
            "flex": null,
            "flex_flow": null,
            "grid_area": null,
            "grid_auto_columns": null,
            "grid_auto_flow": null,
            "grid_auto_rows": null,
            "grid_column": null,
            "grid_gap": null,
            "grid_row": null,
            "grid_template_areas": null,
            "grid_template_columns": null,
            "grid_template_rows": null,
            "height": null,
            "justify_content": null,
            "justify_items": null,
            "left": null,
            "margin": null,
            "max_height": null,
            "max_width": null,
            "min_height": null,
            "min_width": null,
            "object_fit": null,
            "object_position": null,
            "order": null,
            "overflow": null,
            "overflow_x": null,
            "overflow_y": null,
            "padding": null,
            "right": null,
            "top": null,
            "visibility": null,
            "width": null
          }
        },
        "978bf861123b46128a11288af7f00238": {
          "model_module": "@jupyter-widgets/controls",
          "model_name": "DescriptionStyleModel",
          "model_module_version": "1.5.0",
          "state": {
            "_model_module": "@jupyter-widgets/controls",
            "_model_module_version": "1.5.0",
            "_model_name": "DescriptionStyleModel",
            "_view_count": null,
            "_view_module": "@jupyter-widgets/base",
            "_view_module_version": "1.2.0",
            "_view_name": "StyleView",
            "description_width": ""
          }
        },
        "7513b5fa3d0d4f748d8fb9a05beb1bf1": {
          "model_module": "@jupyter-widgets/controls",
          "model_name": "HBoxModel",
          "model_module_version": "1.5.0",
          "state": {
            "_dom_classes": [],
            "_model_module": "@jupyter-widgets/controls",
            "_model_module_version": "1.5.0",
            "_model_name": "HBoxModel",
            "_view_count": null,
            "_view_module": "@jupyter-widgets/controls",
            "_view_module_version": "1.5.0",
            "_view_name": "HBoxView",
            "box_style": "",
            "children": [
              "IPY_MODEL_75652c85d259449d825749459ab3bfc2",
              "IPY_MODEL_01d5f1ed750742f48890e243864f3974",
              "IPY_MODEL_0804193e4b51445bb1bf2a36e1abcb4e"
            ],
            "layout": "IPY_MODEL_f91c0f7a88494919aa3f287a90e5a520"
          }
        },
        "75652c85d259449d825749459ab3bfc2": {
          "model_module": "@jupyter-widgets/controls",
          "model_name": "HTMLModel",
          "model_module_version": "1.5.0",
          "state": {
            "_dom_classes": [],
            "_model_module": "@jupyter-widgets/controls",
            "_model_module_version": "1.5.0",
            "_model_name": "HTMLModel",
            "_view_count": null,
            "_view_module": "@jupyter-widgets/controls",
            "_view_module_version": "1.5.0",
            "_view_name": "HTMLView",
            "description": "",
            "description_tooltip": null,
            "layout": "IPY_MODEL_6171834d26284baeac8ec5320210835e",
            "placeholder": "​",
            "style": "IPY_MODEL_acfc2558780b454fadf2e48717218da3",
            "value": "special_tokens_map.json: 100%"
          }
        },
        "01d5f1ed750742f48890e243864f3974": {
          "model_module": "@jupyter-widgets/controls",
          "model_name": "FloatProgressModel",
          "model_module_version": "1.5.0",
          "state": {
            "_dom_classes": [],
            "_model_module": "@jupyter-widgets/controls",
            "_model_module_version": "1.5.0",
            "_model_name": "FloatProgressModel",
            "_view_count": null,
            "_view_module": "@jupyter-widgets/controls",
            "_view_module_version": "1.5.0",
            "_view_name": "ProgressView",
            "bar_style": "success",
            "description": "",
            "description_tooltip": null,
            "layout": "IPY_MODEL_a15b1482358b42b68a86030daddf7a90",
            "max": 173,
            "min": 0,
            "orientation": "horizontal",
            "style": "IPY_MODEL_b4f93a731fbb420fbbee541fdb00338a",
            "value": 173
          }
        },
        "0804193e4b51445bb1bf2a36e1abcb4e": {
          "model_module": "@jupyter-widgets/controls",
          "model_name": "HTMLModel",
          "model_module_version": "1.5.0",
          "state": {
            "_dom_classes": [],
            "_model_module": "@jupyter-widgets/controls",
            "_model_module_version": "1.5.0",
            "_model_name": "HTMLModel",
            "_view_count": null,
            "_view_module": "@jupyter-widgets/controls",
            "_view_module_version": "1.5.0",
            "_view_name": "HTMLView",
            "description": "",
            "description_tooltip": null,
            "layout": "IPY_MODEL_53be68d8cfb4442f8a90e387d82ee96c",
            "placeholder": "​",
            "style": "IPY_MODEL_cad97d85358143ad94eee4bc167f0c5c",
            "value": " 173/173 [00:00&lt;00:00, 3.64kB/s]"
          }
        },
        "f91c0f7a88494919aa3f287a90e5a520": {
          "model_module": "@jupyter-widgets/base",
          "model_name": "LayoutModel",
          "model_module_version": "1.2.0",
          "state": {
            "_model_module": "@jupyter-widgets/base",
            "_model_module_version": "1.2.0",
            "_model_name": "LayoutModel",
            "_view_count": null,
            "_view_module": "@jupyter-widgets/base",
            "_view_module_version": "1.2.0",
            "_view_name": "LayoutView",
            "align_content": null,
            "align_items": null,
            "align_self": null,
            "border": null,
            "bottom": null,
            "display": null,
            "flex": null,
            "flex_flow": null,
            "grid_area": null,
            "grid_auto_columns": null,
            "grid_auto_flow": null,
            "grid_auto_rows": null,
            "grid_column": null,
            "grid_gap": null,
            "grid_row": null,
            "grid_template_areas": null,
            "grid_template_columns": null,
            "grid_template_rows": null,
            "height": null,
            "justify_content": null,
            "justify_items": null,
            "left": null,
            "margin": null,
            "max_height": null,
            "max_width": null,
            "min_height": null,
            "min_width": null,
            "object_fit": null,
            "object_position": null,
            "order": null,
            "overflow": null,
            "overflow_x": null,
            "overflow_y": null,
            "padding": null,
            "right": null,
            "top": null,
            "visibility": null,
            "width": null
          }
        },
        "6171834d26284baeac8ec5320210835e": {
          "model_module": "@jupyter-widgets/base",
          "model_name": "LayoutModel",
          "model_module_version": "1.2.0",
          "state": {
            "_model_module": "@jupyter-widgets/base",
            "_model_module_version": "1.2.0",
            "_model_name": "LayoutModel",
            "_view_count": null,
            "_view_module": "@jupyter-widgets/base",
            "_view_module_version": "1.2.0",
            "_view_name": "LayoutView",
            "align_content": null,
            "align_items": null,
            "align_self": null,
            "border": null,
            "bottom": null,
            "display": null,
            "flex": null,
            "flex_flow": null,
            "grid_area": null,
            "grid_auto_columns": null,
            "grid_auto_flow": null,
            "grid_auto_rows": null,
            "grid_column": null,
            "grid_gap": null,
            "grid_row": null,
            "grid_template_areas": null,
            "grid_template_columns": null,
            "grid_template_rows": null,
            "height": null,
            "justify_content": null,
            "justify_items": null,
            "left": null,
            "margin": null,
            "max_height": null,
            "max_width": null,
            "min_height": null,
            "min_width": null,
            "object_fit": null,
            "object_position": null,
            "order": null,
            "overflow": null,
            "overflow_x": null,
            "overflow_y": null,
            "padding": null,
            "right": null,
            "top": null,
            "visibility": null,
            "width": null
          }
        },
        "acfc2558780b454fadf2e48717218da3": {
          "model_module": "@jupyter-widgets/controls",
          "model_name": "DescriptionStyleModel",
          "model_module_version": "1.5.0",
          "state": {
            "_model_module": "@jupyter-widgets/controls",
            "_model_module_version": "1.5.0",
            "_model_name": "DescriptionStyleModel",
            "_view_count": null,
            "_view_module": "@jupyter-widgets/base",
            "_view_module_version": "1.2.0",
            "_view_name": "StyleView",
            "description_width": ""
          }
        },
        "a15b1482358b42b68a86030daddf7a90": {
          "model_module": "@jupyter-widgets/base",
          "model_name": "LayoutModel",
          "model_module_version": "1.2.0",
          "state": {
            "_model_module": "@jupyter-widgets/base",
            "_model_module_version": "1.2.0",
            "_model_name": "LayoutModel",
            "_view_count": null,
            "_view_module": "@jupyter-widgets/base",
            "_view_module_version": "1.2.0",
            "_view_name": "LayoutView",
            "align_content": null,
            "align_items": null,
            "align_self": null,
            "border": null,
            "bottom": null,
            "display": null,
            "flex": null,
            "flex_flow": null,
            "grid_area": null,
            "grid_auto_columns": null,
            "grid_auto_flow": null,
            "grid_auto_rows": null,
            "grid_column": null,
            "grid_gap": null,
            "grid_row": null,
            "grid_template_areas": null,
            "grid_template_columns": null,
            "grid_template_rows": null,
            "height": null,
            "justify_content": null,
            "justify_items": null,
            "left": null,
            "margin": null,
            "max_height": null,
            "max_width": null,
            "min_height": null,
            "min_width": null,
            "object_fit": null,
            "object_position": null,
            "order": null,
            "overflow": null,
            "overflow_x": null,
            "overflow_y": null,
            "padding": null,
            "right": null,
            "top": null,
            "visibility": null,
            "width": null
          }
        },
        "b4f93a731fbb420fbbee541fdb00338a": {
          "model_module": "@jupyter-widgets/controls",
          "model_name": "ProgressStyleModel",
          "model_module_version": "1.5.0",
          "state": {
            "_model_module": "@jupyter-widgets/controls",
            "_model_module_version": "1.5.0",
            "_model_name": "ProgressStyleModel",
            "_view_count": null,
            "_view_module": "@jupyter-widgets/base",
            "_view_module_version": "1.2.0",
            "_view_name": "StyleView",
            "bar_color": null,
            "description_width": ""
          }
        },
        "53be68d8cfb4442f8a90e387d82ee96c": {
          "model_module": "@jupyter-widgets/base",
          "model_name": "LayoutModel",
          "model_module_version": "1.2.0",
          "state": {
            "_model_module": "@jupyter-widgets/base",
            "_model_module_version": "1.2.0",
            "_model_name": "LayoutModel",
            "_view_count": null,
            "_view_module": "@jupyter-widgets/base",
            "_view_module_version": "1.2.0",
            "_view_name": "LayoutView",
            "align_content": null,
            "align_items": null,
            "align_self": null,
            "border": null,
            "bottom": null,
            "display": null,
            "flex": null,
            "flex_flow": null,
            "grid_area": null,
            "grid_auto_columns": null,
            "grid_auto_flow": null,
            "grid_auto_rows": null,
            "grid_column": null,
            "grid_gap": null,
            "grid_row": null,
            "grid_template_areas": null,
            "grid_template_columns": null,
            "grid_template_rows": null,
            "height": null,
            "justify_content": null,
            "justify_items": null,
            "left": null,
            "margin": null,
            "max_height": null,
            "max_width": null,
            "min_height": null,
            "min_width": null,
            "object_fit": null,
            "object_position": null,
            "order": null,
            "overflow": null,
            "overflow_x": null,
            "overflow_y": null,
            "padding": null,
            "right": null,
            "top": null,
            "visibility": null,
            "width": null
          }
        },
        "cad97d85358143ad94eee4bc167f0c5c": {
          "model_module": "@jupyter-widgets/controls",
          "model_name": "DescriptionStyleModel",
          "model_module_version": "1.5.0",
          "state": {
            "_model_module": "@jupyter-widgets/controls",
            "_model_module_version": "1.5.0",
            "_model_name": "DescriptionStyleModel",
            "_view_count": null,
            "_view_module": "@jupyter-widgets/base",
            "_view_module_version": "1.2.0",
            "_view_name": "StyleView",
            "description_width": ""
          }
        },
        "ac029aed5c3f4c56b1244563a8a50c2d": {
          "model_module": "@jupyter-widgets/controls",
          "model_name": "HBoxModel",
          "model_module_version": "1.5.0",
          "state": {
            "_dom_classes": [],
            "_model_module": "@jupyter-widgets/controls",
            "_model_module_version": "1.5.0",
            "_model_name": "HBoxModel",
            "_view_count": null,
            "_view_module": "@jupyter-widgets/controls",
            "_view_module_version": "1.5.0",
            "_view_name": "HBoxView",
            "box_style": "",
            "children": [
              "IPY_MODEL_7dc6d482209f42a78a9dcc095b04d62b",
              "IPY_MODEL_140da326ef23449ca3087f7aa491a17d",
              "IPY_MODEL_23f3e9d3ed3c434cb9b76e71193cc569"
            ],
            "layout": "IPY_MODEL_cd707005d4b04c11ac26f419e132ce82"
          }
        },
        "7dc6d482209f42a78a9dcc095b04d62b": {
          "model_module": "@jupyter-widgets/controls",
          "model_name": "HTMLModel",
          "model_module_version": "1.5.0",
          "state": {
            "_dom_classes": [],
            "_model_module": "@jupyter-widgets/controls",
            "_model_module_version": "1.5.0",
            "_model_name": "HTMLModel",
            "_view_count": null,
            "_view_module": "@jupyter-widgets/controls",
            "_view_module_version": "1.5.0",
            "_view_name": "HTMLView",
            "description": "",
            "description_tooltip": null,
            "layout": "IPY_MODEL_de5e77a9825f4d1cb4af86bfdd4fab39",
            "placeholder": "​",
            "style": "IPY_MODEL_6300276e1781445e9b77a8348cac5b4d",
            "value": "config.json: 100%"
          }
        },
        "140da326ef23449ca3087f7aa491a17d": {
          "model_module": "@jupyter-widgets/controls",
          "model_name": "FloatProgressModel",
          "model_module_version": "1.5.0",
          "state": {
            "_dom_classes": [],
            "_model_module": "@jupyter-widgets/controls",
            "_model_module_version": "1.5.0",
            "_model_name": "FloatProgressModel",
            "_view_count": null,
            "_view_module": "@jupyter-widgets/controls",
            "_view_module_version": "1.5.0",
            "_view_name": "ProgressView",
            "bar_style": "success",
            "description": "",
            "description_tooltip": null,
            "layout": "IPY_MODEL_6aac9de4876a40e7a689d84658b752b7",
            "max": 879,
            "min": 0,
            "orientation": "horizontal",
            "style": "IPY_MODEL_b863ab9516354b2cbaa11bddc8ae70c3",
            "value": 879
          }
        },
        "23f3e9d3ed3c434cb9b76e71193cc569": {
          "model_module": "@jupyter-widgets/controls",
          "model_name": "HTMLModel",
          "model_module_version": "1.5.0",
          "state": {
            "_dom_classes": [],
            "_model_module": "@jupyter-widgets/controls",
            "_model_module_version": "1.5.0",
            "_model_name": "HTMLModel",
            "_view_count": null,
            "_view_module": "@jupyter-widgets/controls",
            "_view_module_version": "1.5.0",
            "_view_name": "HTMLView",
            "description": "",
            "description_tooltip": null,
            "layout": "IPY_MODEL_2bd05779a8cc4a90b5644f4cdeefddb5",
            "placeholder": "​",
            "style": "IPY_MODEL_5ddd40cd1c5a42f8a76ff9b586ae02d5",
            "value": " 879/879 [00:00&lt;00:00, 54.7kB/s]"
          }
        },
        "cd707005d4b04c11ac26f419e132ce82": {
          "model_module": "@jupyter-widgets/base",
          "model_name": "LayoutModel",
          "model_module_version": "1.2.0",
          "state": {
            "_model_module": "@jupyter-widgets/base",
            "_model_module_version": "1.2.0",
            "_model_name": "LayoutModel",
            "_view_count": null,
            "_view_module": "@jupyter-widgets/base",
            "_view_module_version": "1.2.0",
            "_view_name": "LayoutView",
            "align_content": null,
            "align_items": null,
            "align_self": null,
            "border": null,
            "bottom": null,
            "display": null,
            "flex": null,
            "flex_flow": null,
            "grid_area": null,
            "grid_auto_columns": null,
            "grid_auto_flow": null,
            "grid_auto_rows": null,
            "grid_column": null,
            "grid_gap": null,
            "grid_row": null,
            "grid_template_areas": null,
            "grid_template_columns": null,
            "grid_template_rows": null,
            "height": null,
            "justify_content": null,
            "justify_items": null,
            "left": null,
            "margin": null,
            "max_height": null,
            "max_width": null,
            "min_height": null,
            "min_width": null,
            "object_fit": null,
            "object_position": null,
            "order": null,
            "overflow": null,
            "overflow_x": null,
            "overflow_y": null,
            "padding": null,
            "right": null,
            "top": null,
            "visibility": null,
            "width": null
          }
        },
        "de5e77a9825f4d1cb4af86bfdd4fab39": {
          "model_module": "@jupyter-widgets/base",
          "model_name": "LayoutModel",
          "model_module_version": "1.2.0",
          "state": {
            "_model_module": "@jupyter-widgets/base",
            "_model_module_version": "1.2.0",
            "_model_name": "LayoutModel",
            "_view_count": null,
            "_view_module": "@jupyter-widgets/base",
            "_view_module_version": "1.2.0",
            "_view_name": "LayoutView",
            "align_content": null,
            "align_items": null,
            "align_self": null,
            "border": null,
            "bottom": null,
            "display": null,
            "flex": null,
            "flex_flow": null,
            "grid_area": null,
            "grid_auto_columns": null,
            "grid_auto_flow": null,
            "grid_auto_rows": null,
            "grid_column": null,
            "grid_gap": null,
            "grid_row": null,
            "grid_template_areas": null,
            "grid_template_columns": null,
            "grid_template_rows": null,
            "height": null,
            "justify_content": null,
            "justify_items": null,
            "left": null,
            "margin": null,
            "max_height": null,
            "max_width": null,
            "min_height": null,
            "min_width": null,
            "object_fit": null,
            "object_position": null,
            "order": null,
            "overflow": null,
            "overflow_x": null,
            "overflow_y": null,
            "padding": null,
            "right": null,
            "top": null,
            "visibility": null,
            "width": null
          }
        },
        "6300276e1781445e9b77a8348cac5b4d": {
          "model_module": "@jupyter-widgets/controls",
          "model_name": "DescriptionStyleModel",
          "model_module_version": "1.5.0",
          "state": {
            "_model_module": "@jupyter-widgets/controls",
            "_model_module_version": "1.5.0",
            "_model_name": "DescriptionStyleModel",
            "_view_count": null,
            "_view_module": "@jupyter-widgets/base",
            "_view_module_version": "1.2.0",
            "_view_name": "StyleView",
            "description_width": ""
          }
        },
        "6aac9de4876a40e7a689d84658b752b7": {
          "model_module": "@jupyter-widgets/base",
          "model_name": "LayoutModel",
          "model_module_version": "1.2.0",
          "state": {
            "_model_module": "@jupyter-widgets/base",
            "_model_module_version": "1.2.0",
            "_model_name": "LayoutModel",
            "_view_count": null,
            "_view_module": "@jupyter-widgets/base",
            "_view_module_version": "1.2.0",
            "_view_name": "LayoutView",
            "align_content": null,
            "align_items": null,
            "align_self": null,
            "border": null,
            "bottom": null,
            "display": null,
            "flex": null,
            "flex_flow": null,
            "grid_area": null,
            "grid_auto_columns": null,
            "grid_auto_flow": null,
            "grid_auto_rows": null,
            "grid_column": null,
            "grid_gap": null,
            "grid_row": null,
            "grid_template_areas": null,
            "grid_template_columns": null,
            "grid_template_rows": null,
            "height": null,
            "justify_content": null,
            "justify_items": null,
            "left": null,
            "margin": null,
            "max_height": null,
            "max_width": null,
            "min_height": null,
            "min_width": null,
            "object_fit": null,
            "object_position": null,
            "order": null,
            "overflow": null,
            "overflow_x": null,
            "overflow_y": null,
            "padding": null,
            "right": null,
            "top": null,
            "visibility": null,
            "width": null
          }
        },
        "b863ab9516354b2cbaa11bddc8ae70c3": {
          "model_module": "@jupyter-widgets/controls",
          "model_name": "ProgressStyleModel",
          "model_module_version": "1.5.0",
          "state": {
            "_model_module": "@jupyter-widgets/controls",
            "_model_module_version": "1.5.0",
            "_model_name": "ProgressStyleModel",
            "_view_count": null,
            "_view_module": "@jupyter-widgets/base",
            "_view_module_version": "1.2.0",
            "_view_name": "StyleView",
            "bar_color": null,
            "description_width": ""
          }
        },
        "2bd05779a8cc4a90b5644f4cdeefddb5": {
          "model_module": "@jupyter-widgets/base",
          "model_name": "LayoutModel",
          "model_module_version": "1.2.0",
          "state": {
            "_model_module": "@jupyter-widgets/base",
            "_model_module_version": "1.2.0",
            "_model_name": "LayoutModel",
            "_view_count": null,
            "_view_module": "@jupyter-widgets/base",
            "_view_module_version": "1.2.0",
            "_view_name": "LayoutView",
            "align_content": null,
            "align_items": null,
            "align_self": null,
            "border": null,
            "bottom": null,
            "display": null,
            "flex": null,
            "flex_flow": null,
            "grid_area": null,
            "grid_auto_columns": null,
            "grid_auto_flow": null,
            "grid_auto_rows": null,
            "grid_column": null,
            "grid_gap": null,
            "grid_row": null,
            "grid_template_areas": null,
            "grid_template_columns": null,
            "grid_template_rows": null,
            "height": null,
            "justify_content": null,
            "justify_items": null,
            "left": null,
            "margin": null,
            "max_height": null,
            "max_width": null,
            "min_height": null,
            "min_width": null,
            "object_fit": null,
            "object_position": null,
            "order": null,
            "overflow": null,
            "overflow_x": null,
            "overflow_y": null,
            "padding": null,
            "right": null,
            "top": null,
            "visibility": null,
            "width": null
          }
        },
        "5ddd40cd1c5a42f8a76ff9b586ae02d5": {
          "model_module": "@jupyter-widgets/controls",
          "model_name": "DescriptionStyleModel",
          "model_module_version": "1.5.0",
          "state": {
            "_model_module": "@jupyter-widgets/controls",
            "_model_module_version": "1.5.0",
            "_model_name": "DescriptionStyleModel",
            "_view_count": null,
            "_view_module": "@jupyter-widgets/base",
            "_view_module_version": "1.2.0",
            "_view_name": "StyleView",
            "description_width": ""
          }
        },
        "b9f6c7c6f79a499b87f9fc32f306dec3": {
          "model_module": "@jupyter-widgets/controls",
          "model_name": "HBoxModel",
          "model_module_version": "1.5.0",
          "state": {
            "_dom_classes": [],
            "_model_module": "@jupyter-widgets/controls",
            "_model_module_version": "1.5.0",
            "_model_name": "HBoxModel",
            "_view_count": null,
            "_view_module": "@jupyter-widgets/controls",
            "_view_module_version": "1.5.0",
            "_view_name": "HBoxView",
            "box_style": "",
            "children": [
              "IPY_MODEL_85e7b1d71f244ef283da4070516666ca",
              "IPY_MODEL_66fb042f42d646e88e3fed52a1f57b82",
              "IPY_MODEL_1aae9f9979594e6e8a3963e03c812bc0"
            ],
            "layout": "IPY_MODEL_fde77cd0deb54f19834666e8389b3d34"
          }
        },
        "85e7b1d71f244ef283da4070516666ca": {
          "model_module": "@jupyter-widgets/controls",
          "model_name": "HTMLModel",
          "model_module_version": "1.5.0",
          "state": {
            "_dom_classes": [],
            "_model_module": "@jupyter-widgets/controls",
            "_model_module_version": "1.5.0",
            "_model_name": "HTMLModel",
            "_view_count": null,
            "_view_module": "@jupyter-widgets/controls",
            "_view_module_version": "1.5.0",
            "_view_name": "HTMLView",
            "description": "",
            "description_tooltip": null,
            "layout": "IPY_MODEL_397bf90733d14b729cf2ab633e295f7f",
            "placeholder": "​",
            "style": "IPY_MODEL_5554d0fcef1042d58a0e2d7d2c14f3fb",
            "value": "model.safetensors: 100%"
          }
        },
        "66fb042f42d646e88e3fed52a1f57b82": {
          "model_module": "@jupyter-widgets/controls",
          "model_name": "FloatProgressModel",
          "model_module_version": "1.5.0",
          "state": {
            "_dom_classes": [],
            "_model_module": "@jupyter-widgets/controls",
            "_model_module_version": "1.5.0",
            "_model_name": "FloatProgressModel",
            "_view_count": null,
            "_view_module": "@jupyter-widgets/controls",
            "_view_module_version": "1.5.0",
            "_view_name": "ProgressView",
            "bar_style": "success",
            "description": "",
            "description_tooltip": null,
            "layout": "IPY_MODEL_8964328434884476872d63c46ee700e4",
            "max": 1112909866,
            "min": 0,
            "orientation": "horizontal",
            "style": "IPY_MODEL_98ffc964e0d243b5ae905eb0d62235d0",
            "value": 1112909866
          }
        },
        "1aae9f9979594e6e8a3963e03c812bc0": {
          "model_module": "@jupyter-widgets/controls",
          "model_name": "HTMLModel",
          "model_module_version": "1.5.0",
          "state": {
            "_dom_classes": [],
            "_model_module": "@jupyter-widgets/controls",
            "_model_module_version": "1.5.0",
            "_model_name": "HTMLModel",
            "_view_count": null,
            "_view_module": "@jupyter-widgets/controls",
            "_view_module_version": "1.5.0",
            "_view_name": "HTMLView",
            "description": "",
            "description_tooltip": null,
            "layout": "IPY_MODEL_9f67624367f342c4a909160d090b2c24",
            "placeholder": "​",
            "style": "IPY_MODEL_37153eec49cd43b5b1e2fb816bcb1c80",
            "value": " 1.11G/1.11G [00:28&lt;00:00, 47.7MB/s]"
          }
        },
        "fde77cd0deb54f19834666e8389b3d34": {
          "model_module": "@jupyter-widgets/base",
          "model_name": "LayoutModel",
          "model_module_version": "1.2.0",
          "state": {
            "_model_module": "@jupyter-widgets/base",
            "_model_module_version": "1.2.0",
            "_model_name": "LayoutModel",
            "_view_count": null,
            "_view_module": "@jupyter-widgets/base",
            "_view_module_version": "1.2.0",
            "_view_name": "LayoutView",
            "align_content": null,
            "align_items": null,
            "align_self": null,
            "border": null,
            "bottom": null,
            "display": null,
            "flex": null,
            "flex_flow": null,
            "grid_area": null,
            "grid_auto_columns": null,
            "grid_auto_flow": null,
            "grid_auto_rows": null,
            "grid_column": null,
            "grid_gap": null,
            "grid_row": null,
            "grid_template_areas": null,
            "grid_template_columns": null,
            "grid_template_rows": null,
            "height": null,
            "justify_content": null,
            "justify_items": null,
            "left": null,
            "margin": null,
            "max_height": null,
            "max_width": null,
            "min_height": null,
            "min_width": null,
            "object_fit": null,
            "object_position": null,
            "order": null,
            "overflow": null,
            "overflow_x": null,
            "overflow_y": null,
            "padding": null,
            "right": null,
            "top": null,
            "visibility": null,
            "width": null
          }
        },
        "397bf90733d14b729cf2ab633e295f7f": {
          "model_module": "@jupyter-widgets/base",
          "model_name": "LayoutModel",
          "model_module_version": "1.2.0",
          "state": {
            "_model_module": "@jupyter-widgets/base",
            "_model_module_version": "1.2.0",
            "_model_name": "LayoutModel",
            "_view_count": null,
            "_view_module": "@jupyter-widgets/base",
            "_view_module_version": "1.2.0",
            "_view_name": "LayoutView",
            "align_content": null,
            "align_items": null,
            "align_self": null,
            "border": null,
            "bottom": null,
            "display": null,
            "flex": null,
            "flex_flow": null,
            "grid_area": null,
            "grid_auto_columns": null,
            "grid_auto_flow": null,
            "grid_auto_rows": null,
            "grid_column": null,
            "grid_gap": null,
            "grid_row": null,
            "grid_template_areas": null,
            "grid_template_columns": null,
            "grid_template_rows": null,
            "height": null,
            "justify_content": null,
            "justify_items": null,
            "left": null,
            "margin": null,
            "max_height": null,
            "max_width": null,
            "min_height": null,
            "min_width": null,
            "object_fit": null,
            "object_position": null,
            "order": null,
            "overflow": null,
            "overflow_x": null,
            "overflow_y": null,
            "padding": null,
            "right": null,
            "top": null,
            "visibility": null,
            "width": null
          }
        },
        "5554d0fcef1042d58a0e2d7d2c14f3fb": {
          "model_module": "@jupyter-widgets/controls",
          "model_name": "DescriptionStyleModel",
          "model_module_version": "1.5.0",
          "state": {
            "_model_module": "@jupyter-widgets/controls",
            "_model_module_version": "1.5.0",
            "_model_name": "DescriptionStyleModel",
            "_view_count": null,
            "_view_module": "@jupyter-widgets/base",
            "_view_module_version": "1.2.0",
            "_view_name": "StyleView",
            "description_width": ""
          }
        },
        "8964328434884476872d63c46ee700e4": {
          "model_module": "@jupyter-widgets/base",
          "model_name": "LayoutModel",
          "model_module_version": "1.2.0",
          "state": {
            "_model_module": "@jupyter-widgets/base",
            "_model_module_version": "1.2.0",
            "_model_name": "LayoutModel",
            "_view_count": null,
            "_view_module": "@jupyter-widgets/base",
            "_view_module_version": "1.2.0",
            "_view_name": "LayoutView",
            "align_content": null,
            "align_items": null,
            "align_self": null,
            "border": null,
            "bottom": null,
            "display": null,
            "flex": null,
            "flex_flow": null,
            "grid_area": null,
            "grid_auto_columns": null,
            "grid_auto_flow": null,
            "grid_auto_rows": null,
            "grid_column": null,
            "grid_gap": null,
            "grid_row": null,
            "grid_template_areas": null,
            "grid_template_columns": null,
            "grid_template_rows": null,
            "height": null,
            "justify_content": null,
            "justify_items": null,
            "left": null,
            "margin": null,
            "max_height": null,
            "max_width": null,
            "min_height": null,
            "min_width": null,
            "object_fit": null,
            "object_position": null,
            "order": null,
            "overflow": null,
            "overflow_x": null,
            "overflow_y": null,
            "padding": null,
            "right": null,
            "top": null,
            "visibility": null,
            "width": null
          }
        },
        "98ffc964e0d243b5ae905eb0d62235d0": {
          "model_module": "@jupyter-widgets/controls",
          "model_name": "ProgressStyleModel",
          "model_module_version": "1.5.0",
          "state": {
            "_model_module": "@jupyter-widgets/controls",
            "_model_module_version": "1.5.0",
            "_model_name": "ProgressStyleModel",
            "_view_count": null,
            "_view_module": "@jupyter-widgets/base",
            "_view_module_version": "1.2.0",
            "_view_name": "StyleView",
            "bar_color": null,
            "description_width": ""
          }
        },
        "9f67624367f342c4a909160d090b2c24": {
          "model_module": "@jupyter-widgets/base",
          "model_name": "LayoutModel",
          "model_module_version": "1.2.0",
          "state": {
            "_model_module": "@jupyter-widgets/base",
            "_model_module_version": "1.2.0",
            "_model_name": "LayoutModel",
            "_view_count": null,
            "_view_module": "@jupyter-widgets/base",
            "_view_module_version": "1.2.0",
            "_view_name": "LayoutView",
            "align_content": null,
            "align_items": null,
            "align_self": null,
            "border": null,
            "bottom": null,
            "display": null,
            "flex": null,
            "flex_flow": null,
            "grid_area": null,
            "grid_auto_columns": null,
            "grid_auto_flow": null,
            "grid_auto_rows": null,
            "grid_column": null,
            "grid_gap": null,
            "grid_row": null,
            "grid_template_areas": null,
            "grid_template_columns": null,
            "grid_template_rows": null,
            "height": null,
            "justify_content": null,
            "justify_items": null,
            "left": null,
            "margin": null,
            "max_height": null,
            "max_width": null,
            "min_height": null,
            "min_width": null,
            "object_fit": null,
            "object_position": null,
            "order": null,
            "overflow": null,
            "overflow_x": null,
            "overflow_y": null,
            "padding": null,
            "right": null,
            "top": null,
            "visibility": null,
            "width": null
          }
        },
        "37153eec49cd43b5b1e2fb816bcb1c80": {
          "model_module": "@jupyter-widgets/controls",
          "model_name": "DescriptionStyleModel",
          "model_module_version": "1.5.0",
          "state": {
            "_model_module": "@jupyter-widgets/controls",
            "_model_module_version": "1.5.0",
            "_model_name": "DescriptionStyleModel",
            "_view_count": null,
            "_view_module": "@jupyter-widgets/base",
            "_view_module_version": "1.2.0",
            "_view_name": "StyleView",
            "description_width": ""
          }
        }
      }
    }
  },
  "nbformat": 4,
  "nbformat_minor": 0
}